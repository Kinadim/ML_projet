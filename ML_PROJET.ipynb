{
 "cells": [
  {
   "cell_type": "markdown",
   "metadata": {
    "colab_type": "text",
    "id": "view-in-github"
   },
   "source": [
    "<a href=\"https://colab.research.google.com/github/Kinadim/ML_projet/blob/main/ML_PROJET.ipynb\" target=\"_parent\"><img src=\"https://colab.research.google.com/assets/colab-badge.svg\" alt=\"Open In Colab\"/></a>"
   ]
  },
  {
   "cell_type": "markdown",
   "metadata": {},
   "source": [
    "# Introduction"
   ]
  },
  {
   "cell_type": "code",
   "execution_count": null,
   "metadata": {},
   "outputs": [],
   "source": []
  },
  {
   "cell_type": "markdown",
   "metadata": {},
   "source": [
    "## Importation des différentes librairies utiles pour le notebook"
   ]
  },
  {
   "cell_type": "code",
   "execution_count": 1,
   "metadata": {
    "id": "Fn0UWiCOWl-w"
   },
   "outputs": [
    {
     "name": "stdout",
     "output_type": "stream",
     "text": [
      "Requirement already satisfied: pyspark in c:\\users\\matth\\anaconda3\\lib\\site-packages (3.5.5)\n",
      "Requirement already satisfied: deep-translator in c:\\users\\matth\\anaconda3\\lib\\site-packages (1.11.4)\n",
      "Requirement already satisfied: mlutils in c:\\users\\matth\\anaconda3\\lib\\site-packages (0.2.0b0)\n",
      "Requirement already satisfied: XGBoost in c:\\users\\matth\\anaconda3\\lib\\site-packages (3.0.0)\n",
      "Requirement already satisfied: py4j==0.10.9.7 in c:\\users\\matth\\anaconda3\\lib\\site-packages (from pyspark) (0.10.9.7)\n",
      "Requirement already satisfied: beautifulsoup4<5.0.0,>=4.9.1 in c:\\users\\matth\\anaconda3\\lib\\site-packages (from deep-translator) (4.12.3)\n",
      "Requirement already satisfied: requests<3.0.0,>=2.23.0 in c:\\users\\matth\\anaconda3\\lib\\site-packages (from deep-translator) (2.32.3)\n",
      "Requirement already satisfied: numpy in c:\\users\\matth\\anaconda3\\lib\\site-packages (from XGBoost) (1.26.4)\n",
      "Requirement already satisfied: scipy in c:\\users\\matth\\anaconda3\\lib\\site-packages (from XGBoost) (1.13.1)\n",
      "Requirement already satisfied: soupsieve>1.2 in c:\\users\\matth\\anaconda3\\lib\\site-packages (from beautifulsoup4<5.0.0,>=4.9.1->deep-translator) (2.5)\n",
      "Requirement already satisfied: charset-normalizer<4,>=2 in c:\\users\\matth\\anaconda3\\lib\\site-packages (from requests<3.0.0,>=2.23.0->deep-translator) (3.3.2)\n",
      "Requirement already satisfied: idna<4,>=2.5 in c:\\users\\matth\\anaconda3\\lib\\site-packages (from requests<3.0.0,>=2.23.0->deep-translator) (3.7)\n",
      "Requirement already satisfied: urllib3<3,>=1.21.1 in c:\\users\\matth\\anaconda3\\lib\\site-packages (from requests<3.0.0,>=2.23.0->deep-translator) (2.2.3)\n",
      "Requirement already satisfied: certifi>=2017.4.17 in c:\\users\\matth\\anaconda3\\lib\\site-packages (from requests<3.0.0,>=2.23.0->deep-translator) (2025.1.31)\n"
     ]
    }
   ],
   "source": [
    "!pip install pyspark deep-translator mlutils XGBoost\n",
    "\n",
    "\n",
    "import warnings\n",
    "warnings.filterwarnings(\"ignore\", category=FutureWarning)\n",
    "\n",
    "from deep_translator import GoogleTranslator\n",
    "\n",
    "import itertools\n",
    "import re\n",
    "import nltk\n",
    "import pandas as pd\n",
    "import numpy as np\n",
    "import seaborn as sns\n",
    "import matplotlib.pyplot as plt\n",
    "import sys\n",
    "from xgboost import XGBClassifier\n",
    "\n",
    "from nltk.corpus import stopwords\n",
    "from nltk.tokenize import word_tokenize\n",
    "from nltk.stem import WordNetLemmatizer, PorterStemmer\n",
    "\n",
    "from sklearn.preprocessing import StandardScaler, KBinsDiscretizer, LabelEncoder\n",
    "from sklearn.pipeline import make_pipeline\n",
    "from sklearn.svm import SVC, LinearSVC\n",
    "from sklearn.tree import DecisionTreeClassifier\n",
    "from sklearn.model_selection import train_test_split, cross_val_score\n",
    "from sklearn.metrics import accuracy_score, classification_report, confusion_matrix, precision_score, recall_score, f1_score,ConfusionMatrixDisplay\n",
    "from sklearn.impute import SimpleImputer\n",
    "from sklearn.neighbors import KNeighborsClassifier\n",
    "from sklearn.feature_extraction.text import TfidfVectorizer, CountVectorizer\n",
    "from sklearn.linear_model import LogisticRegression\n",
    "from sklearn.naive_bayes import MultinomialNB\n",
    "from sklearn.neural_network import MLPClassifier\n",
    "from sklearn.ensemble import GradientBoostingClassifier\n",
    "\n",
    "import pyspark\n",
    "from pyspark.ml.linalg import Matrices\n",
    "from pyspark.mllib.util import MLUtils"
   ]
  },
  {
   "cell_type": "markdown",
   "metadata": {},
   "source": [
    "### Affichage du dataset"
   ]
  },
  {
   "cell_type": "code",
   "execution_count": 2,
   "metadata": {
    "colab": {
     "base_uri": "https://localhost:8080/",
     "height": 206
    },
    "id": "geqkifBkYGIk",
    "outputId": "aa15bf3f-36d9-4ad1-e638-0b37f8a3c166"
   },
   "outputs": [
    {
     "data": {
      "text/html": [
       "<div>\n",
       "<style scoped>\n",
       "    .dataframe tbody tr th:only-of-type {\n",
       "        vertical-align: middle;\n",
       "    }\n",
       "\n",
       "    .dataframe tbody tr th {\n",
       "        vertical-align: top;\n",
       "    }\n",
       "\n",
       "    .dataframe thead th {\n",
       "        text-align: right;\n",
       "    }\n",
       "</style>\n",
       "<table border=\"1\" class=\"dataframe\">\n",
       "  <thead>\n",
       "    <tr style=\"text-align: right;\">\n",
       "      <th></th>\n",
       "      <th>Unnamed: 0</th>\n",
       "      <th>tweet_id</th>\n",
       "      <th>text</th>\n",
       "      <th>science_related</th>\n",
       "      <th>scientific_claim</th>\n",
       "      <th>scientific_reference</th>\n",
       "      <th>scientific_context</th>\n",
       "    </tr>\n",
       "  </thead>\n",
       "  <tbody>\n",
       "    <tr>\n",
       "      <th>0</th>\n",
       "      <td>0</td>\n",
       "      <td>316669998137483264</td>\n",
       "      <td>Knees are a bit sore. i guess that's a sign th...</td>\n",
       "      <td>0</td>\n",
       "      <td>0.0</td>\n",
       "      <td>0.0</td>\n",
       "      <td>0.0</td>\n",
       "    </tr>\n",
       "    <tr>\n",
       "      <th>1</th>\n",
       "      <td>1</td>\n",
       "      <td>319090866545385472</td>\n",
       "      <td>McDonald's breakfast stop then the gym 🏀💪</td>\n",
       "      <td>0</td>\n",
       "      <td>0.0</td>\n",
       "      <td>0.0</td>\n",
       "      <td>0.0</td>\n",
       "    </tr>\n",
       "    <tr>\n",
       "      <th>2</th>\n",
       "      <td>2</td>\n",
       "      <td>322030931022065664</td>\n",
       "      <td>Can any Gynecologist with Cancer Experience ex...</td>\n",
       "      <td>1</td>\n",
       "      <td>1.0</td>\n",
       "      <td>0.0</td>\n",
       "      <td>0.0</td>\n",
       "    </tr>\n",
       "    <tr>\n",
       "      <th>3</th>\n",
       "      <td>3</td>\n",
       "      <td>322694830620807168</td>\n",
       "      <td>Couch-lock highs lead to sleeping in the couch...</td>\n",
       "      <td>1</td>\n",
       "      <td>1.0</td>\n",
       "      <td>0.0</td>\n",
       "      <td>0.0</td>\n",
       "    </tr>\n",
       "    <tr>\n",
       "      <th>4</th>\n",
       "      <td>4</td>\n",
       "      <td>328524426658328576</td>\n",
       "      <td>Does daily routine help prevent problems with ...</td>\n",
       "      <td>1</td>\n",
       "      <td>1.0</td>\n",
       "      <td>0.0</td>\n",
       "      <td>0.0</td>\n",
       "    </tr>\n",
       "  </tbody>\n",
       "</table>\n",
       "</div>"
      ],
      "text/plain": [
       "   Unnamed: 0            tweet_id  \\\n",
       "0           0  316669998137483264   \n",
       "1           1  319090866545385472   \n",
       "2           2  322030931022065664   \n",
       "3           3  322694830620807168   \n",
       "4           4  328524426658328576   \n",
       "\n",
       "                                                text  science_related  \\\n",
       "0  Knees are a bit sore. i guess that's a sign th...                0   \n",
       "1          McDonald's breakfast stop then the gym 🏀💪                0   \n",
       "2  Can any Gynecologist with Cancer Experience ex...                1   \n",
       "3  Couch-lock highs lead to sleeping in the couch...                1   \n",
       "4  Does daily routine help prevent problems with ...                1   \n",
       "\n",
       "   scientific_claim  scientific_reference  scientific_context  \n",
       "0               0.0                   0.0                 0.0  \n",
       "1               0.0                   0.0                 0.0  \n",
       "2               1.0                   0.0                 0.0  \n",
       "3               1.0                   0.0                 0.0  \n",
       "4               1.0                   0.0                 0.0  "
      ]
     },
     "metadata": {},
     "output_type": "display_data"
    },
    {
     "name": "stdout",
     "output_type": "stream",
     "text": [
      "<class 'pandas.core.frame.DataFrame'>\n",
      "RangeIndex: 1140 entries, 0 to 1139\n",
      "Data columns (total 7 columns):\n",
      " #   Column                Non-Null Count  Dtype  \n",
      "---  ------                --------------  -----  \n",
      " 0   Unnamed: 0            1140 non-null   int64  \n",
      " 1   tweet_id              1140 non-null   int64  \n",
      " 2   text                  1140 non-null   object \n",
      " 3   science_related       1140 non-null   int64  \n",
      " 4   scientific_claim      1140 non-null   float64\n",
      " 5   scientific_reference  1140 non-null   float64\n",
      " 6   scientific_context    1140 non-null   float64\n",
      "dtypes: float64(3), int64(3), object(1)\n",
      "memory usage: 62.5+ KB\n"
     ]
    },
    {
     "data": {
      "text/plain": [
       "None"
      ]
     },
     "metadata": {},
     "output_type": "display_data"
    },
    {
     "data": {
      "text/html": [
       "<div>\n",
       "<style scoped>\n",
       "    .dataframe tbody tr th:only-of-type {\n",
       "        vertical-align: middle;\n",
       "    }\n",
       "\n",
       "    .dataframe tbody tr th {\n",
       "        vertical-align: top;\n",
       "    }\n",
       "\n",
       "    .dataframe thead th {\n",
       "        text-align: right;\n",
       "    }\n",
       "</style>\n",
       "<table border=\"1\" class=\"dataframe\">\n",
       "  <thead>\n",
       "    <tr style=\"text-align: right;\">\n",
       "      <th></th>\n",
       "      <th>Unnamed: 0</th>\n",
       "      <th>tweet_id</th>\n",
       "      <th>science_related</th>\n",
       "      <th>scientific_claim</th>\n",
       "      <th>scientific_reference</th>\n",
       "      <th>scientific_context</th>\n",
       "    </tr>\n",
       "  </thead>\n",
       "  <tbody>\n",
       "    <tr>\n",
       "      <th>count</th>\n",
       "      <td>1140.000000</td>\n",
       "      <td>1.140000e+03</td>\n",
       "      <td>1140.000000</td>\n",
       "      <td>1140.000000</td>\n",
       "      <td>1140.00000</td>\n",
       "      <td>1140.000000</td>\n",
       "    </tr>\n",
       "    <tr>\n",
       "      <th>mean</th>\n",
       "      <td>626.040351</td>\n",
       "      <td>8.560901e+17</td>\n",
       "      <td>0.328947</td>\n",
       "      <td>0.230702</td>\n",
       "      <td>0.17807</td>\n",
       "      <td>0.220175</td>\n",
       "    </tr>\n",
       "    <tr>\n",
       "      <th>std</th>\n",
       "      <td>364.412255</td>\n",
       "      <td>2.865422e+17</td>\n",
       "      <td>0.470037</td>\n",
       "      <td>0.421467</td>\n",
       "      <td>0.38274</td>\n",
       "      <td>0.414547</td>\n",
       "    </tr>\n",
       "    <tr>\n",
       "      <th>min</th>\n",
       "      <td>0.000000</td>\n",
       "      <td>3.166700e+17</td>\n",
       "      <td>0.000000</td>\n",
       "      <td>0.000000</td>\n",
       "      <td>0.00000</td>\n",
       "      <td>0.000000</td>\n",
       "    </tr>\n",
       "    <tr>\n",
       "      <th>25%</th>\n",
       "      <td>306.750000</td>\n",
       "      <td>6.176042e+17</td>\n",
       "      <td>0.000000</td>\n",
       "      <td>0.000000</td>\n",
       "      <td>0.00000</td>\n",
       "      <td>0.000000</td>\n",
       "    </tr>\n",
       "    <tr>\n",
       "      <th>50%</th>\n",
       "      <td>624.500000</td>\n",
       "      <td>8.615253e+17</td>\n",
       "      <td>0.000000</td>\n",
       "      <td>0.000000</td>\n",
       "      <td>0.00000</td>\n",
       "      <td>0.000000</td>\n",
       "    </tr>\n",
       "    <tr>\n",
       "      <th>75%</th>\n",
       "      <td>940.250000</td>\n",
       "      <td>1.103864e+18</td>\n",
       "      <td>1.000000</td>\n",
       "      <td>0.000000</td>\n",
       "      <td>0.00000</td>\n",
       "      <td>0.000000</td>\n",
       "    </tr>\n",
       "    <tr>\n",
       "      <th>max</th>\n",
       "      <td>1260.000000</td>\n",
       "      <td>1.344485e+18</td>\n",
       "      <td>1.000000</td>\n",
       "      <td>1.000000</td>\n",
       "      <td>1.00000</td>\n",
       "      <td>1.000000</td>\n",
       "    </tr>\n",
       "  </tbody>\n",
       "</table>\n",
       "</div>"
      ],
      "text/plain": [
       "        Unnamed: 0      tweet_id  science_related  scientific_claim  \\\n",
       "count  1140.000000  1.140000e+03      1140.000000       1140.000000   \n",
       "mean    626.040351  8.560901e+17         0.328947          0.230702   \n",
       "std     364.412255  2.865422e+17         0.470037          0.421467   \n",
       "min       0.000000  3.166700e+17         0.000000          0.000000   \n",
       "25%     306.750000  6.176042e+17         0.000000          0.000000   \n",
       "50%     624.500000  8.615253e+17         0.000000          0.000000   \n",
       "75%     940.250000  1.103864e+18         1.000000          0.000000   \n",
       "max    1260.000000  1.344485e+18         1.000000          1.000000   \n",
       "\n",
       "       scientific_reference  scientific_context  \n",
       "count            1140.00000         1140.000000  \n",
       "mean                0.17807            0.220175  \n",
       "std                 0.38274            0.414547  \n",
       "min                 0.00000            0.000000  \n",
       "25%                 0.00000            0.000000  \n",
       "50%                 0.00000            0.000000  \n",
       "75%                 0.00000            0.000000  \n",
       "max                 1.00000            1.000000  "
      ]
     },
     "metadata": {},
     "output_type": "display_data"
    }
   ],
   "source": [
    "df=pd.read_csv('scitweets_export.tsv', sep='\\t')\n",
    "display (df.head())\n",
    "display(df.info())\n",
    "display(df.describe())"
   ]
  },
  {
   "cell_type": "markdown",
   "metadata": {},
   "source": [
    "### On observe la répartition des valeurs pour chaque classe"
   ]
  },
  {
   "cell_type": "code",
   "execution_count": 3,
   "metadata": {},
   "outputs": [
    {
     "data": {
      "image/png": "[encoded data removed]",
      "text/plain": [
       "<Figure size 1200x1000 with 4 Axes>"
      ]
     },
     "metadata": {},
     "output_type": "display_data"
    }
   ],
   "source": [
    "# Définir la figure avec 2 lignes et 2 colonnes\n",
    "fig, axes = plt.subplots(2, 2, figsize=(12, 10))\n",
    "\n",
    "# Liste des colonnes à afficher\n",
    "columns = ['science_related', 'scientific_claim', 'scientific_reference', 'scientific_context']\n",
    "titles = [\n",
    "    \"Répartition des tweets liés à la science\",\n",
    "    \"Répartition des tweets avec une affirmation scientifique\",\n",
    "    \"Répartition des tweets avec une référence scientifique\",\n",
    "    \"Répartition des tweets de contexte scientifique\"\n",
    "]\n",
    "\n",
    "# Générer les 4 countplots avec pourcentage\n",
    "for ax, col, title in zip(axes.flat, columns, titles):\n",
    "    total = len(df[col])  # Nombre total d'observations\n",
    "    sns.barplot(\n",
    "        x=df[col].value_counts(normalize=True).index,  # Valeurs uniques\n",
    "        y=df[col].value_counts(normalize=True).values * 100,  # Pourcentage\n",
    "        ax=ax, palette=\"coolwarm\"\n",
    "    )\n",
    "    ax.set_title(title)\n",
    "    ax.set_xlabel(\"\")  # Supprimer les labels des axes X pour plus de lisibilité\n",
    "    ax.set_ylabel(\"Pourcentage (%)\")\n",
    "\n",
    "# Ajuster l'espacement\n",
    "plt.tight_layout()\n",
    "plt.show()\n"
   ]
  },
  {
   "cell_type": "markdown",
   "metadata": {},
   "source": [
    "On remarque que la majorité des tweets de notre dataset d'entrainement ne sont pas scientifiques"
   ]
  },
  {
   "cell_type": "markdown",
   "metadata": {},
   "source": [
    "## Séparation en 2 classes : Scientifique vs Non scientifique"
   ]
  },
  {
   "cell_type": "markdown",
   "metadata": {},
   "source": [
    "Dans un premier temps il s'agit d'effectuer des pré traitement sur les données afin d'améliorer les prédictions des modèles par la suite"
   ]
  },
  {
   "cell_type": "markdown",
   "metadata": {},
   "source": [
    "On a remarqué que certains tweets utilise des mots qui ne sont pas en anglais, du coréen notamment. Il parait donc approprié de traduire les tweets en anglais pour que modèle ne soit pas biaisé par la présence de différentes langues \"outliers\" dans le dataset qui viendrait influer négativement sur nos résultats. Pour pallier à ce problème nous utilisons les fonctionnalité de traduction proposé par Google Traduction. "
   ]
  },
  {
   "cell_type": "markdown",
   "metadata": {},
   "source": [
    "### Fonction pour traduire en anglais"
   ]
  },
  {
   "cell_type": "code",
   "execution_count": 4,
   "metadata": {},
   "outputs": [],
   "source": [
    "def translate_to_english(tweet):\n",
    "    translated = GoogleTranslator(source='auto', target='en').translate(tweet)\n",
    "    return translated\n",
    "df['text'] = df['text'].apply(translate_to_english)"
   ]
  },
  {
   "cell_type": "markdown",
   "metadata": {},
   "source": [
    "Dans un second temps nous générons toutes les combinaisons de nettoyage de données afin de déterminer lesquelles sont intéressantes:\n",
    "- Suppression des hyperliens\n",
    "- Suppression des mentions d'utilisateurs\n",
    "- Suppression des hashtags\n",
    "- Texte transformé en miniscule\n",
    "- Suppression de la ponctuation\n",
    "- Suppression des stop words(mots trop communs ayant aucune utilité sémantique)\n",
    "- Lemmatisation des mots, on transforme les mots en leur forme racine(making devient make par exemple), en s'assurant qu'ils conservent leur sens grâce à un dictionnaire de lemme existants\n",
    "- Racinisation des mots, on transforme les mots en leur forme racine sans s'assurer que le mot produit est un terme existant"
   ]
  },
  {
   "cell_type": "code",
   "execution_count": 5,
   "metadata": {
    "scrolled": true
   },
   "outputs": [
    {
     "name": "stderr",
     "output_type": "stream",
     "text": [
      "[nltk_data] Downloading package stopwords to\n",
      "[nltk_data]     C:\\Users\\matth\\AppData\\Roaming\\nltk_data...\n",
      "[nltk_data]   Package stopwords is already up-to-date!\n",
      "[nltk_data] Downloading package punkt to\n",
      "[nltk_data]     C:\\Users\\matth\\AppData\\Roaming\\nltk_data...\n",
      "[nltk_data]   Package punkt is already up-to-date!\n",
      "[nltk_data] Downloading package wordnet to\n",
      "[nltk_data]     C:\\Users\\matth\\AppData\\Roaming\\nltk_data...\n",
      "[nltk_data]   Package wordnet is already up-to-date!\n",
      "[nltk_data] Downloading package punkt_tab to\n",
      "[nltk_data]     C:\\Users\\matth\\AppData\\Roaming\\nltk_data...\n",
      "[nltk_data]   Package punkt_tab is already up-to-date!\n"
     ]
    }
   ],
   "source": [
    "# Télécharger les ressources nécessaires\n",
    "nltk.download('stopwords')\n",
    "nltk.download('punkt')\n",
    "nltk.download('wordnet')\n",
    "nltk.download('punkt_tab')\n",
    "# Charger les données\n",
    "\n",
    "# Définition des fonctions de prétraitement\n",
    "def remove_links(tweet):\n",
    "    return re.sub(r'http\\S+|www\\S+|https\\S+|\\@\\w+|\\#', '', tweet, flags=re.MULTILINE)\n",
    "\n",
    "def remove_mentions(tweet):\n",
    "    return re.sub(r'\\@\\w+', '', tweet, flags=re.MULTILINE)\n",
    "\n",
    "def remove_hashtags(tweet):\n",
    "    return re.sub(r'\\#+', '', tweet, flags=re.MULTILINE)\n",
    "\n",
    "def to_lowercase(tweet):\n",
    "    return tweet.lower()\n",
    "\n",
    "def remove_punctuation(tweet):\n",
    "    return re.sub(r'[^\\w\\s]', '', tweet)\n",
    "\n",
    "def remove_stopwords(tweet):\n",
    "    tokens = word_tokenize(tweet)\n",
    "    return ' '.join([word for word in tokens if word not in stopwords.words('english')])\n",
    "\n",
    "def lemmatize_words(tweet):\n",
    "    tokens = word_tokenize(tweet)\n",
    "    lemmatizer = WordNetLemmatizer()\n",
    "    return ' '.join([lemmatizer.lemmatize(word) for word in tokens])\n",
    "\n",
    "def stem_words(tweet):\n",
    "    tokens = word_tokenize(tweet)\n",
    "    stemmer = PorterStemmer()\n",
    "    return ' '.join([stemmer.stem(word) for word in tokens])\n",
    "\n",
    "\n",
    "# Liste des transformations possibles\n",
    "transformations = {\n",
    "    \"remove_links\": remove_links,\n",
    "    \"to_lowercase\": to_lowercase,\n",
    "    \"remove_punctuation\": remove_punctuation,\n",
    "    \"remove_stopwords\": remove_stopwords,\n",
    "    \"lemmatize_words\": lemmatize_words,\n",
    "    \"remove_mentions\": remove_mentions,\n",
    "    \"remove_hashtags\": remove_hashtags,\n",
    "    \"stem_words\": stem_words\n",
    "}\n",
    "\n",
    "# Générer toutes les combinaisons possibles des transformations\n",
    "all_combinations = []\n",
    "for i in range(1, len(transformations) + 1):\n",
    "    all_combinations.extend(itertools.combinations(transformations.keys(), i))"
   ]
  },
  {
   "cell_type": "markdown",
   "metadata": {},
   "source": [
    "Il s'agit ensuite de déterminer pour ces combinaisons quel modèle est le plus performant, nous allons donc tester toutes les combinaisons pour chaque modèle"
   ]
  },
  {
   "cell_type": "code",
   "execution_count": 16,
   "metadata": {
    "scrolled": true
   },
   "outputs": [
    {
     "name": "stdout",
     "output_type": "stream",
     "text": [
      "Cross-Validation Std Dev: 0.0287\n",
      "First Quartile (25th Percentile): 0.8607\n",
      "Third Quartile (75th Percentile): 0.8996\n",
      "Cross-Validation Accuracy (10 folds): 0.8743\n",
      "[1/255] Combo: ('remove_links',) | Model: Régression Logistique | Acc: 0.8595\n",
      "Cross-Validation Std Dev: 0.0216\n",
      "First Quartile (25th Percentile): 0.8801\n",
      "Third Quartile (75th Percentile): 0.9160\n",
      "Cross-Validation Accuracy (10 folds): 0.8938\n"
     ]
    },
    {
     "name": "stderr",
     "output_type": "stream",
     "text": [
      "c:\\Users\\matth\\anaconda3\\Lib\\site-packages\\sklearn\\svm\\_base.py:1235: ConvergenceWarning: Liblinear failed to converge, increase the number of iterations.\n",
      "  warnings.warn(\n"
     ]
    },
    {
     "name": "stdout",
     "output_type": "stream",
     "text": [
      "[1/255] Combo: ('remove_links',) | Model: SVM Linéaire | Acc: 0.8627\n",
      "Cross-Validation Std Dev: 0.0193\n",
      "First Quartile (25th Percentile): 0.8065\n",
      "Third Quartile (75th Percentile): 0.8361\n",
      "Cross-Validation Accuracy (10 folds): 0.8219\n",
      "[1/255] Combo: ('remove_links',) | Model: Gradient Boosting | Acc: 0.8366\n",
      "Cross-Validation Std Dev: 0.0330\n",
      "First Quartile (25th Percentile): 0.7975\n",
      "Third Quartile (75th Percentile): 0.8385\n",
      "Cross-Validation Accuracy (10 folds): 0.8154\n",
      "[1/255] Combo: ('remove_links',) | Model: Decision Tree | Acc: 0.8072\n",
      "Cross-Validation Std Dev: 0.0256\n",
      "First Quartile (25th Percentile): 0.8493\n",
      "Third Quartile (75th Percentile): 0.8916\n",
      "Cross-Validation Accuracy (10 folds): 0.8685\n",
      "[1/255] Combo: ('remove_links',) | Model: Naive Bayes | Acc: 0.8366\n",
      "Cross-Validation Std Dev: 0.0283\n",
      "First Quartile (25th Percentile): 0.8364\n",
      "Third Quartile (75th Percentile): 0.8651\n",
      "Cross-Validation Accuracy (10 folds): 0.8554\n",
      "[1/255] Combo: ('remove_links',) | Model: XGBoost | Acc: 0.8627\n"
     ]
    },
    {
     "name": "stderr",
     "output_type": "stream",
     "text": [
      "c:\\Users\\matth\\anaconda3\\Lib\\site-packages\\sklearn\\neural_network\\_multilayer_perceptron.py:697: UserWarning: Training interrupted by user.\n",
      "  warnings.warn(\"Training interrupted by user.\")\n"
     ]
    },
    {
     "name": "stdout",
     "output_type": "stream",
     "text": [
      "Cross-Validation Std Dev: 0.0205\n",
      "First Quartile (25th Percentile): 0.8709\n",
      "Third Quartile (75th Percentile): 0.8996\n",
      "Cross-Validation Accuracy (10 folds): 0.8857\n",
      "[1/255] Combo: ('remove_links',) | Model: Perceptron Multicouche | Acc: 0.8301\n",
      "Cross-Validation Std Dev: 0.0287\n",
      "First Quartile (25th Percentile): 0.8607\n",
      "Third Quartile (75th Percentile): 0.8996\n",
      "Cross-Validation Accuracy (10 folds): 0.8743\n",
      "[2/255] Combo: ('to_lowercase',) | Model: Régression Logistique | Acc: 0.8595\n",
      "Cross-Validation Std Dev: 0.0216\n",
      "First Quartile (25th Percentile): 0.8801\n",
      "Third Quartile (75th Percentile): 0.9160\n",
      "Cross-Validation Accuracy (10 folds): 0.8938\n"
     ]
    },
    {
     "name": "stderr",
     "output_type": "stream",
     "text": [
      "c:\\Users\\matth\\anaconda3\\Lib\\site-packages\\sklearn\\svm\\_base.py:1235: ConvergenceWarning: Liblinear failed to converge, increase the number of iterations.\n",
      "  warnings.warn(\n"
     ]
    },
    {
     "name": "stdout",
     "output_type": "stream",
     "text": [
      "[2/255] Combo: ('to_lowercase',) | Model: SVM Linéaire | Acc: 0.8627\n"
     ]
    },
    {
     "ename": "KeyboardInterrupt",
     "evalue": "",
     "output_type": "error",
     "traceback": [
      "\u001b[1;31m---------------------------------------------------------------------------\u001b[0m",
      "\u001b[1;31mKeyboardInterrupt\u001b[0m                         Traceback (most recent call last)",
      "Cell \u001b[1;32mIn[16], line 51\u001b[0m\n\u001b[0;32m     48\u001b[0m copy_model \u001b[38;5;241m=\u001b[39m model\n\u001b[0;32m     50\u001b[0m \u001b[38;5;66;03m# Perform 10-fold cross-validation\u001b[39;00m\n\u001b[1;32m---> 51\u001b[0m cv_scores \u001b[38;5;241m=\u001b[39m \u001b[43mcross_val_score\u001b[49m\u001b[43m(\u001b[49m\u001b[43mcopy_model\u001b[49m\u001b[43m,\u001b[49m\u001b[43m \u001b[49m\u001b[43mX_train\u001b[49m\u001b[43m,\u001b[49m\u001b[43m \u001b[49m\u001b[43my_train\u001b[49m\u001b[43m,\u001b[49m\u001b[43m \u001b[49m\u001b[43mcv\u001b[49m\u001b[38;5;241;43m=\u001b[39;49m\u001b[38;5;241;43m10\u001b[39;49m\u001b[43m,\u001b[49m\u001b[43m \u001b[49m\u001b[43mscoring\u001b[49m\u001b[38;5;241;43m=\u001b[39;49m\u001b[38;5;124;43m'\u001b[39;49m\u001b[38;5;124;43maccuracy\u001b[39;49m\u001b[38;5;124;43m'\u001b[39;49m\u001b[43m)\u001b[49m\n\u001b[0;32m     53\u001b[0m \u001b[38;5;66;03m# Calculate the mean accuracy across folds\u001b[39;00m\n\u001b[0;32m     54\u001b[0m mean_cv_score \u001b[38;5;241m=\u001b[39m cv_scores\u001b[38;5;241m.\u001b[39mmean()\n",
      "File \u001b[1;32mc:\\Users\\matth\\anaconda3\\Lib\\site-packages\\sklearn\\utils\\_param_validation.py:213\u001b[0m, in \u001b[0;36mvalidate_params.<locals>.decorator.<locals>.wrapper\u001b[1;34m(*args, **kwargs)\u001b[0m\n\u001b[0;32m    207\u001b[0m \u001b[38;5;28;01mtry\u001b[39;00m:\n\u001b[0;32m    208\u001b[0m     \u001b[38;5;28;01mwith\u001b[39;00m config_context(\n\u001b[0;32m    209\u001b[0m         skip_parameter_validation\u001b[38;5;241m=\u001b[39m(\n\u001b[0;32m    210\u001b[0m             prefer_skip_nested_validation \u001b[38;5;129;01mor\u001b[39;00m global_skip_validation\n\u001b[0;32m    211\u001b[0m         )\n\u001b[0;32m    212\u001b[0m     ):\n\u001b[1;32m--> 213\u001b[0m         \u001b[38;5;28;01mreturn\u001b[39;00m \u001b[43mfunc\u001b[49m\u001b[43m(\u001b[49m\u001b[38;5;241;43m*\u001b[39;49m\u001b[43margs\u001b[49m\u001b[43m,\u001b[49m\u001b[43m \u001b[49m\u001b[38;5;241;43m*\u001b[39;49m\u001b[38;5;241;43m*\u001b[39;49m\u001b[43mkwargs\u001b[49m\u001b[43m)\u001b[49m\n\u001b[0;32m    214\u001b[0m \u001b[38;5;28;01mexcept\u001b[39;00m InvalidParameterError \u001b[38;5;28;01mas\u001b[39;00m e:\n\u001b[0;32m    215\u001b[0m     \u001b[38;5;66;03m# When the function is just a wrapper around an estimator, we allow\u001b[39;00m\n\u001b[0;32m    216\u001b[0m     \u001b[38;5;66;03m# the function to delegate validation to the estimator, but we replace\u001b[39;00m\n\u001b[0;32m    217\u001b[0m     \u001b[38;5;66;03m# the name of the estimator by the name of the function in the error\u001b[39;00m\n\u001b[0;32m    218\u001b[0m     \u001b[38;5;66;03m# message to avoid confusion.\u001b[39;00m\n\u001b[0;32m    219\u001b[0m     msg \u001b[38;5;241m=\u001b[39m re\u001b[38;5;241m.\u001b[39msub(\n\u001b[0;32m    220\u001b[0m         \u001b[38;5;124mr\u001b[39m\u001b[38;5;124m\"\u001b[39m\u001b[38;5;124mparameter of \u001b[39m\u001b[38;5;124m\\\u001b[39m\u001b[38;5;124mw+ must be\u001b[39m\u001b[38;5;124m\"\u001b[39m,\n\u001b[0;32m    221\u001b[0m         \u001b[38;5;124mf\u001b[39m\u001b[38;5;124m\"\u001b[39m\u001b[38;5;124mparameter of \u001b[39m\u001b[38;5;132;01m{\u001b[39;00mfunc\u001b[38;5;241m.\u001b[39m\u001b[38;5;18m__qualname__\u001b[39m\u001b[38;5;132;01m}\u001b[39;00m\u001b[38;5;124m must be\u001b[39m\u001b[38;5;124m\"\u001b[39m,\n\u001b[0;32m    222\u001b[0m         \u001b[38;5;28mstr\u001b[39m(e),\n\u001b[0;32m    223\u001b[0m     )\n",
      "File \u001b[1;32mc:\\Users\\matth\\anaconda3\\Lib\\site-packages\\sklearn\\model_selection\\_validation.py:712\u001b[0m, in \u001b[0;36mcross_val_score\u001b[1;34m(estimator, X, y, groups, scoring, cv, n_jobs, verbose, fit_params, params, pre_dispatch, error_score)\u001b[0m\n\u001b[0;32m    709\u001b[0m \u001b[38;5;66;03m# To ensure multimetric format is not supported\u001b[39;00m\n\u001b[0;32m    710\u001b[0m scorer \u001b[38;5;241m=\u001b[39m check_scoring(estimator, scoring\u001b[38;5;241m=\u001b[39mscoring)\n\u001b[1;32m--> 712\u001b[0m cv_results \u001b[38;5;241m=\u001b[39m \u001b[43mcross_validate\u001b[49m\u001b[43m(\u001b[49m\n\u001b[0;32m    713\u001b[0m \u001b[43m    \u001b[49m\u001b[43mestimator\u001b[49m\u001b[38;5;241;43m=\u001b[39;49m\u001b[43mestimator\u001b[49m\u001b[43m,\u001b[49m\n\u001b[0;32m    714\u001b[0m \u001b[43m    \u001b[49m\u001b[43mX\u001b[49m\u001b[38;5;241;43m=\u001b[39;49m\u001b[43mX\u001b[49m\u001b[43m,\u001b[49m\n\u001b[0;32m    715\u001b[0m \u001b[43m    \u001b[49m\u001b[43my\u001b[49m\u001b[38;5;241;43m=\u001b[39;49m\u001b[43my\u001b[49m\u001b[43m,\u001b[49m\n\u001b[0;32m    716\u001b[0m \u001b[43m    \u001b[49m\u001b[43mgroups\u001b[49m\u001b[38;5;241;43m=\u001b[39;49m\u001b[43mgroups\u001b[49m\u001b[43m,\u001b[49m\n\u001b[0;32m    717\u001b[0m \u001b[43m    \u001b[49m\u001b[43mscoring\u001b[49m\u001b[38;5;241;43m=\u001b[39;49m\u001b[43m{\u001b[49m\u001b[38;5;124;43m\"\u001b[39;49m\u001b[38;5;124;43mscore\u001b[39;49m\u001b[38;5;124;43m\"\u001b[39;49m\u001b[43m:\u001b[49m\u001b[43m \u001b[49m\u001b[43mscorer\u001b[49m\u001b[43m}\u001b[49m\u001b[43m,\u001b[49m\n\u001b[0;32m    718\u001b[0m \u001b[43m    \u001b[49m\u001b[43mcv\u001b[49m\u001b[38;5;241;43m=\u001b[39;49m\u001b[43mcv\u001b[49m\u001b[43m,\u001b[49m\n\u001b[0;32m    719\u001b[0m \u001b[43m    \u001b[49m\u001b[43mn_jobs\u001b[49m\u001b[38;5;241;43m=\u001b[39;49m\u001b[43mn_jobs\u001b[49m\u001b[43m,\u001b[49m\n\u001b[0;32m    720\u001b[0m \u001b[43m    \u001b[49m\u001b[43mverbose\u001b[49m\u001b[38;5;241;43m=\u001b[39;49m\u001b[43mverbose\u001b[49m\u001b[43m,\u001b[49m\n\u001b[0;32m    721\u001b[0m \u001b[43m    \u001b[49m\u001b[43mfit_params\u001b[49m\u001b[38;5;241;43m=\u001b[39;49m\u001b[43mfit_params\u001b[49m\u001b[43m,\u001b[49m\n\u001b[0;32m    722\u001b[0m \u001b[43m    \u001b[49m\u001b[43mparams\u001b[49m\u001b[38;5;241;43m=\u001b[39;49m\u001b[43mparams\u001b[49m\u001b[43m,\u001b[49m\n\u001b[0;32m    723\u001b[0m \u001b[43m    \u001b[49m\u001b[43mpre_dispatch\u001b[49m\u001b[38;5;241;43m=\u001b[39;49m\u001b[43mpre_dispatch\u001b[49m\u001b[43m,\u001b[49m\n\u001b[0;32m    724\u001b[0m \u001b[43m    \u001b[49m\u001b[43merror_score\u001b[49m\u001b[38;5;241;43m=\u001b[39;49m\u001b[43merror_score\u001b[49m\u001b[43m,\u001b[49m\n\u001b[0;32m    725\u001b[0m \u001b[43m\u001b[49m\u001b[43m)\u001b[49m\n\u001b[0;32m    726\u001b[0m \u001b[38;5;28;01mreturn\u001b[39;00m cv_results[\u001b[38;5;124m\"\u001b[39m\u001b[38;5;124mtest_score\u001b[39m\u001b[38;5;124m\"\u001b[39m]\n",
      "File \u001b[1;32mc:\\Users\\matth\\anaconda3\\Lib\\site-packages\\sklearn\\utils\\_param_validation.py:213\u001b[0m, in \u001b[0;36mvalidate_params.<locals>.decorator.<locals>.wrapper\u001b[1;34m(*args, **kwargs)\u001b[0m\n\u001b[0;32m    207\u001b[0m \u001b[38;5;28;01mtry\u001b[39;00m:\n\u001b[0;32m    208\u001b[0m     \u001b[38;5;28;01mwith\u001b[39;00m config_context(\n\u001b[0;32m    209\u001b[0m         skip_parameter_validation\u001b[38;5;241m=\u001b[39m(\n\u001b[0;32m    210\u001b[0m             prefer_skip_nested_validation \u001b[38;5;129;01mor\u001b[39;00m global_skip_validation\n\u001b[0;32m    211\u001b[0m         )\n\u001b[0;32m    212\u001b[0m     ):\n\u001b[1;32m--> 213\u001b[0m         \u001b[38;5;28;01mreturn\u001b[39;00m \u001b[43mfunc\u001b[49m\u001b[43m(\u001b[49m\u001b[38;5;241;43m*\u001b[39;49m\u001b[43margs\u001b[49m\u001b[43m,\u001b[49m\u001b[43m \u001b[49m\u001b[38;5;241;43m*\u001b[39;49m\u001b[38;5;241;43m*\u001b[39;49m\u001b[43mkwargs\u001b[49m\u001b[43m)\u001b[49m\n\u001b[0;32m    214\u001b[0m \u001b[38;5;28;01mexcept\u001b[39;00m InvalidParameterError \u001b[38;5;28;01mas\u001b[39;00m e:\n\u001b[0;32m    215\u001b[0m     \u001b[38;5;66;03m# When the function is just a wrapper around an estimator, we allow\u001b[39;00m\n\u001b[0;32m    216\u001b[0m     \u001b[38;5;66;03m# the function to delegate validation to the estimator, but we replace\u001b[39;00m\n\u001b[0;32m    217\u001b[0m     \u001b[38;5;66;03m# the name of the estimator by the name of the function in the error\u001b[39;00m\n\u001b[0;32m    218\u001b[0m     \u001b[38;5;66;03m# message to avoid confusion.\u001b[39;00m\n\u001b[0;32m    219\u001b[0m     msg \u001b[38;5;241m=\u001b[39m re\u001b[38;5;241m.\u001b[39msub(\n\u001b[0;32m    220\u001b[0m         \u001b[38;5;124mr\u001b[39m\u001b[38;5;124m\"\u001b[39m\u001b[38;5;124mparameter of \u001b[39m\u001b[38;5;124m\\\u001b[39m\u001b[38;5;124mw+ must be\u001b[39m\u001b[38;5;124m\"\u001b[39m,\n\u001b[0;32m    221\u001b[0m         \u001b[38;5;124mf\u001b[39m\u001b[38;5;124m\"\u001b[39m\u001b[38;5;124mparameter of \u001b[39m\u001b[38;5;132;01m{\u001b[39;00mfunc\u001b[38;5;241m.\u001b[39m\u001b[38;5;18m__qualname__\u001b[39m\u001b[38;5;132;01m}\u001b[39;00m\u001b[38;5;124m must be\u001b[39m\u001b[38;5;124m\"\u001b[39m,\n\u001b[0;32m    222\u001b[0m         \u001b[38;5;28mstr\u001b[39m(e),\n\u001b[0;32m    223\u001b[0m     )\n",
      "File \u001b[1;32mc:\\Users\\matth\\anaconda3\\Lib\\site-packages\\sklearn\\model_selection\\_validation.py:423\u001b[0m, in \u001b[0;36mcross_validate\u001b[1;34m(estimator, X, y, groups, scoring, cv, n_jobs, verbose, fit_params, params, pre_dispatch, return_train_score, return_estimator, return_indices, error_score)\u001b[0m\n\u001b[0;32m    420\u001b[0m \u001b[38;5;66;03m# We clone the estimator to make sure that all the folds are\u001b[39;00m\n\u001b[0;32m    421\u001b[0m \u001b[38;5;66;03m# independent, and that it is pickle-able.\u001b[39;00m\n\u001b[0;32m    422\u001b[0m parallel \u001b[38;5;241m=\u001b[39m Parallel(n_jobs\u001b[38;5;241m=\u001b[39mn_jobs, verbose\u001b[38;5;241m=\u001b[39mverbose, pre_dispatch\u001b[38;5;241m=\u001b[39mpre_dispatch)\n\u001b[1;32m--> 423\u001b[0m results \u001b[38;5;241m=\u001b[39m \u001b[43mparallel\u001b[49m\u001b[43m(\u001b[49m\n\u001b[0;32m    424\u001b[0m \u001b[43m    \u001b[49m\u001b[43mdelayed\u001b[49m\u001b[43m(\u001b[49m\u001b[43m_fit_and_score\u001b[49m\u001b[43m)\u001b[49m\u001b[43m(\u001b[49m\n\u001b[0;32m    425\u001b[0m \u001b[43m        \u001b[49m\u001b[43mclone\u001b[49m\u001b[43m(\u001b[49m\u001b[43mestimator\u001b[49m\u001b[43m)\u001b[49m\u001b[43m,\u001b[49m\n\u001b[0;32m    426\u001b[0m \u001b[43m        \u001b[49m\u001b[43mX\u001b[49m\u001b[43m,\u001b[49m\n\u001b[0;32m    427\u001b[0m \u001b[43m        \u001b[49m\u001b[43my\u001b[49m\u001b[43m,\u001b[49m\n\u001b[0;32m    428\u001b[0m \u001b[43m        \u001b[49m\u001b[43mscorer\u001b[49m\u001b[38;5;241;43m=\u001b[39;49m\u001b[43mscorers\u001b[49m\u001b[43m,\u001b[49m\n\u001b[0;32m    429\u001b[0m \u001b[43m        \u001b[49m\u001b[43mtrain\u001b[49m\u001b[38;5;241;43m=\u001b[39;49m\u001b[43mtrain\u001b[49m\u001b[43m,\u001b[49m\n\u001b[0;32m    430\u001b[0m \u001b[43m        \u001b[49m\u001b[43mtest\u001b[49m\u001b[38;5;241;43m=\u001b[39;49m\u001b[43mtest\u001b[49m\u001b[43m,\u001b[49m\n\u001b[0;32m    431\u001b[0m \u001b[43m        \u001b[49m\u001b[43mverbose\u001b[49m\u001b[38;5;241;43m=\u001b[39;49m\u001b[43mverbose\u001b[49m\u001b[43m,\u001b[49m\n\u001b[0;32m    432\u001b[0m \u001b[43m        \u001b[49m\u001b[43mparameters\u001b[49m\u001b[38;5;241;43m=\u001b[39;49m\u001b[38;5;28;43;01mNone\u001b[39;49;00m\u001b[43m,\u001b[49m\n\u001b[0;32m    433\u001b[0m \u001b[43m        \u001b[49m\u001b[43mfit_params\u001b[49m\u001b[38;5;241;43m=\u001b[39;49m\u001b[43mrouted_params\u001b[49m\u001b[38;5;241;43m.\u001b[39;49m\u001b[43mestimator\u001b[49m\u001b[38;5;241;43m.\u001b[39;49m\u001b[43mfit\u001b[49m\u001b[43m,\u001b[49m\n\u001b[0;32m    434\u001b[0m \u001b[43m        \u001b[49m\u001b[43mscore_params\u001b[49m\u001b[38;5;241;43m=\u001b[39;49m\u001b[43mrouted_params\u001b[49m\u001b[38;5;241;43m.\u001b[39;49m\u001b[43mscorer\u001b[49m\u001b[38;5;241;43m.\u001b[39;49m\u001b[43mscore\u001b[49m\u001b[43m,\u001b[49m\n\u001b[0;32m    435\u001b[0m \u001b[43m        \u001b[49m\u001b[43mreturn_train_score\u001b[49m\u001b[38;5;241;43m=\u001b[39;49m\u001b[43mreturn_train_score\u001b[49m\u001b[43m,\u001b[49m\n\u001b[0;32m    436\u001b[0m \u001b[43m        \u001b[49m\u001b[43mreturn_times\u001b[49m\u001b[38;5;241;43m=\u001b[39;49m\u001b[38;5;28;43;01mTrue\u001b[39;49;00m\u001b[43m,\u001b[49m\n\u001b[0;32m    437\u001b[0m \u001b[43m        \u001b[49m\u001b[43mreturn_estimator\u001b[49m\u001b[38;5;241;43m=\u001b[39;49m\u001b[43mreturn_estimator\u001b[49m\u001b[43m,\u001b[49m\n\u001b[0;32m    438\u001b[0m \u001b[43m        \u001b[49m\u001b[43merror_score\u001b[49m\u001b[38;5;241;43m=\u001b[39;49m\u001b[43merror_score\u001b[49m\u001b[43m,\u001b[49m\n\u001b[0;32m    439\u001b[0m \u001b[43m    \u001b[49m\u001b[43m)\u001b[49m\n\u001b[0;32m    440\u001b[0m \u001b[43m    \u001b[49m\u001b[38;5;28;43;01mfor\u001b[39;49;00m\u001b[43m \u001b[49m\u001b[43mtrain\u001b[49m\u001b[43m,\u001b[49m\u001b[43m \u001b[49m\u001b[43mtest\u001b[49m\u001b[43m \u001b[49m\u001b[38;5;129;43;01min\u001b[39;49;00m\u001b[43m \u001b[49m\u001b[43mindices\u001b[49m\n\u001b[0;32m    441\u001b[0m \u001b[43m\u001b[49m\u001b[43m)\u001b[49m\n\u001b[0;32m    443\u001b[0m _warn_or_raise_about_fit_failures(results, error_score)\n\u001b[0;32m    445\u001b[0m \u001b[38;5;66;03m# For callable scoring, the return type is only know after calling. If the\u001b[39;00m\n\u001b[0;32m    446\u001b[0m \u001b[38;5;66;03m# return type is a dictionary, the error scores can now be inserted with\u001b[39;00m\n\u001b[0;32m    447\u001b[0m \u001b[38;5;66;03m# the correct key.\u001b[39;00m\n",
      "File \u001b[1;32mc:\\Users\\matth\\anaconda3\\Lib\\site-packages\\sklearn\\utils\\parallel.py:74\u001b[0m, in \u001b[0;36mParallel.__call__\u001b[1;34m(self, iterable)\u001b[0m\n\u001b[0;32m     69\u001b[0m config \u001b[38;5;241m=\u001b[39m get_config()\n\u001b[0;32m     70\u001b[0m iterable_with_config \u001b[38;5;241m=\u001b[39m (\n\u001b[0;32m     71\u001b[0m     (_with_config(delayed_func, config), args, kwargs)\n\u001b[0;32m     72\u001b[0m     \u001b[38;5;28;01mfor\u001b[39;00m delayed_func, args, kwargs \u001b[38;5;129;01min\u001b[39;00m iterable\n\u001b[0;32m     73\u001b[0m )\n\u001b[1;32m---> 74\u001b[0m \u001b[38;5;28;01mreturn\u001b[39;00m \u001b[38;5;28;43msuper\u001b[39;49m\u001b[43m(\u001b[49m\u001b[43m)\u001b[49m\u001b[38;5;241;43m.\u001b[39;49m\u001b[38;5;21;43m__call__\u001b[39;49m\u001b[43m(\u001b[49m\u001b[43miterable_with_config\u001b[49m\u001b[43m)\u001b[49m\n",
      "File \u001b[1;32mc:\\Users\\matth\\anaconda3\\Lib\\site-packages\\joblib\\parallel.py:1918\u001b[0m, in \u001b[0;36mParallel.__call__\u001b[1;34m(self, iterable)\u001b[0m\n\u001b[0;32m   1916\u001b[0m     output \u001b[38;5;241m=\u001b[39m \u001b[38;5;28mself\u001b[39m\u001b[38;5;241m.\u001b[39m_get_sequential_output(iterable)\n\u001b[0;32m   1917\u001b[0m     \u001b[38;5;28mnext\u001b[39m(output)\n\u001b[1;32m-> 1918\u001b[0m     \u001b[38;5;28;01mreturn\u001b[39;00m output \u001b[38;5;28;01mif\u001b[39;00m \u001b[38;5;28mself\u001b[39m\u001b[38;5;241m.\u001b[39mreturn_generator \u001b[38;5;28;01melse\u001b[39;00m \u001b[38;5;28;43mlist\u001b[39;49m\u001b[43m(\u001b[49m\u001b[43moutput\u001b[49m\u001b[43m)\u001b[49m\n\u001b[0;32m   1920\u001b[0m \u001b[38;5;66;03m# Let's create an ID that uniquely identifies the current call. If the\u001b[39;00m\n\u001b[0;32m   1921\u001b[0m \u001b[38;5;66;03m# call is interrupted early and that the same instance is immediately\u001b[39;00m\n\u001b[0;32m   1922\u001b[0m \u001b[38;5;66;03m# re-used, this id will be used to prevent workers that were\u001b[39;00m\n\u001b[0;32m   1923\u001b[0m \u001b[38;5;66;03m# concurrently finalizing a task from the previous call to run the\u001b[39;00m\n\u001b[0;32m   1924\u001b[0m \u001b[38;5;66;03m# callback.\u001b[39;00m\n\u001b[0;32m   1925\u001b[0m \u001b[38;5;28;01mwith\u001b[39;00m \u001b[38;5;28mself\u001b[39m\u001b[38;5;241m.\u001b[39m_lock:\n",
      "File \u001b[1;32mc:\\Users\\matth\\anaconda3\\Lib\\site-packages\\joblib\\parallel.py:1847\u001b[0m, in \u001b[0;36mParallel._get_sequential_output\u001b[1;34m(self, iterable)\u001b[0m\n\u001b[0;32m   1845\u001b[0m \u001b[38;5;28mself\u001b[39m\u001b[38;5;241m.\u001b[39mn_dispatched_batches \u001b[38;5;241m+\u001b[39m\u001b[38;5;241m=\u001b[39m \u001b[38;5;241m1\u001b[39m\n\u001b[0;32m   1846\u001b[0m \u001b[38;5;28mself\u001b[39m\u001b[38;5;241m.\u001b[39mn_dispatched_tasks \u001b[38;5;241m+\u001b[39m\u001b[38;5;241m=\u001b[39m \u001b[38;5;241m1\u001b[39m\n\u001b[1;32m-> 1847\u001b[0m res \u001b[38;5;241m=\u001b[39m \u001b[43mfunc\u001b[49m\u001b[43m(\u001b[49m\u001b[38;5;241;43m*\u001b[39;49m\u001b[43margs\u001b[49m\u001b[43m,\u001b[49m\u001b[43m \u001b[49m\u001b[38;5;241;43m*\u001b[39;49m\u001b[38;5;241;43m*\u001b[39;49m\u001b[43mkwargs\u001b[49m\u001b[43m)\u001b[49m\n\u001b[0;32m   1848\u001b[0m \u001b[38;5;28mself\u001b[39m\u001b[38;5;241m.\u001b[39mn_completed_tasks \u001b[38;5;241m+\u001b[39m\u001b[38;5;241m=\u001b[39m \u001b[38;5;241m1\u001b[39m\n\u001b[0;32m   1849\u001b[0m \u001b[38;5;28mself\u001b[39m\u001b[38;5;241m.\u001b[39mprint_progress()\n",
      "File \u001b[1;32mc:\\Users\\matth\\anaconda3\\Lib\\site-packages\\sklearn\\utils\\parallel.py:136\u001b[0m, in \u001b[0;36m_FuncWrapper.__call__\u001b[1;34m(self, *args, **kwargs)\u001b[0m\n\u001b[0;32m    134\u001b[0m     config \u001b[38;5;241m=\u001b[39m {}\n\u001b[0;32m    135\u001b[0m \u001b[38;5;28;01mwith\u001b[39;00m config_context(\u001b[38;5;241m*\u001b[39m\u001b[38;5;241m*\u001b[39mconfig):\n\u001b[1;32m--> 136\u001b[0m     \u001b[38;5;28;01mreturn\u001b[39;00m \u001b[38;5;28;43mself\u001b[39;49m\u001b[38;5;241;43m.\u001b[39;49m\u001b[43mfunction\u001b[49m\u001b[43m(\u001b[49m\u001b[38;5;241;43m*\u001b[39;49m\u001b[43margs\u001b[49m\u001b[43m,\u001b[49m\u001b[43m \u001b[49m\u001b[38;5;241;43m*\u001b[39;49m\u001b[38;5;241;43m*\u001b[39;49m\u001b[43mkwargs\u001b[49m\u001b[43m)\u001b[49m\n",
      "File \u001b[1;32mc:\\Users\\matth\\anaconda3\\Lib\\site-packages\\sklearn\\model_selection\\_validation.py:888\u001b[0m, in \u001b[0;36m_fit_and_score\u001b[1;34m(estimator, X, y, scorer, train, test, verbose, parameters, fit_params, score_params, return_train_score, return_parameters, return_n_test_samples, return_times, return_estimator, split_progress, candidate_progress, error_score)\u001b[0m\n\u001b[0;32m    886\u001b[0m         estimator\u001b[38;5;241m.\u001b[39mfit(X_train, \u001b[38;5;241m*\u001b[39m\u001b[38;5;241m*\u001b[39mfit_params)\n\u001b[0;32m    887\u001b[0m     \u001b[38;5;28;01melse\u001b[39;00m:\n\u001b[1;32m--> 888\u001b[0m         \u001b[43mestimator\u001b[49m\u001b[38;5;241;43m.\u001b[39;49m\u001b[43mfit\u001b[49m\u001b[43m(\u001b[49m\u001b[43mX_train\u001b[49m\u001b[43m,\u001b[49m\u001b[43m \u001b[49m\u001b[43my_train\u001b[49m\u001b[43m,\u001b[49m\u001b[43m \u001b[49m\u001b[38;5;241;43m*\u001b[39;49m\u001b[38;5;241;43m*\u001b[39;49m\u001b[43mfit_params\u001b[49m\u001b[43m)\u001b[49m\n\u001b[0;32m    890\u001b[0m \u001b[38;5;28;01mexcept\u001b[39;00m \u001b[38;5;167;01mException\u001b[39;00m:\n\u001b[0;32m    891\u001b[0m     \u001b[38;5;66;03m# Note fit time as time until error\u001b[39;00m\n\u001b[0;32m    892\u001b[0m     fit_time \u001b[38;5;241m=\u001b[39m time\u001b[38;5;241m.\u001b[39mtime() \u001b[38;5;241m-\u001b[39m start_time\n",
      "File \u001b[1;32mc:\\Users\\matth\\anaconda3\\Lib\\site-packages\\sklearn\\base.py:1473\u001b[0m, in \u001b[0;36m_fit_context.<locals>.decorator.<locals>.wrapper\u001b[1;34m(estimator, *args, **kwargs)\u001b[0m\n\u001b[0;32m   1466\u001b[0m     estimator\u001b[38;5;241m.\u001b[39m_validate_params()\n\u001b[0;32m   1468\u001b[0m \u001b[38;5;28;01mwith\u001b[39;00m config_context(\n\u001b[0;32m   1469\u001b[0m     skip_parameter_validation\u001b[38;5;241m=\u001b[39m(\n\u001b[0;32m   1470\u001b[0m         prefer_skip_nested_validation \u001b[38;5;129;01mor\u001b[39;00m global_skip_validation\n\u001b[0;32m   1471\u001b[0m     )\n\u001b[0;32m   1472\u001b[0m ):\n\u001b[1;32m-> 1473\u001b[0m     \u001b[38;5;28;01mreturn\u001b[39;00m \u001b[43mfit_method\u001b[49m\u001b[43m(\u001b[49m\u001b[43mestimator\u001b[49m\u001b[43m,\u001b[49m\u001b[43m \u001b[49m\u001b[38;5;241;43m*\u001b[39;49m\u001b[43margs\u001b[49m\u001b[43m,\u001b[49m\u001b[43m \u001b[49m\u001b[38;5;241;43m*\u001b[39;49m\u001b[38;5;241;43m*\u001b[39;49m\u001b[43mkwargs\u001b[49m\u001b[43m)\u001b[49m\n",
      "File \u001b[1;32mc:\\Users\\matth\\anaconda3\\Lib\\site-packages\\sklearn\\ensemble\\_gb.py:783\u001b[0m, in \u001b[0;36mBaseGradientBoosting.fit\u001b[1;34m(self, X, y, sample_weight, monitor)\u001b[0m\n\u001b[0;32m    780\u001b[0m     \u001b[38;5;28mself\u001b[39m\u001b[38;5;241m.\u001b[39m_resize_state()\n\u001b[0;32m    782\u001b[0m \u001b[38;5;66;03m# fit the boosting stages\u001b[39;00m\n\u001b[1;32m--> 783\u001b[0m n_stages \u001b[38;5;241m=\u001b[39m \u001b[38;5;28;43mself\u001b[39;49m\u001b[38;5;241;43m.\u001b[39;49m\u001b[43m_fit_stages\u001b[49m\u001b[43m(\u001b[49m\n\u001b[0;32m    784\u001b[0m \u001b[43m    \u001b[49m\u001b[43mX_train\u001b[49m\u001b[43m,\u001b[49m\n\u001b[0;32m    785\u001b[0m \u001b[43m    \u001b[49m\u001b[43my_train\u001b[49m\u001b[43m,\u001b[49m\n\u001b[0;32m    786\u001b[0m \u001b[43m    \u001b[49m\u001b[43mraw_predictions\u001b[49m\u001b[43m,\u001b[49m\n\u001b[0;32m    787\u001b[0m \u001b[43m    \u001b[49m\u001b[43msample_weight_train\u001b[49m\u001b[43m,\u001b[49m\n\u001b[0;32m    788\u001b[0m \u001b[43m    \u001b[49m\u001b[38;5;28;43mself\u001b[39;49m\u001b[38;5;241;43m.\u001b[39;49m\u001b[43m_rng\u001b[49m\u001b[43m,\u001b[49m\n\u001b[0;32m    789\u001b[0m \u001b[43m    \u001b[49m\u001b[43mX_val\u001b[49m\u001b[43m,\u001b[49m\n\u001b[0;32m    790\u001b[0m \u001b[43m    \u001b[49m\u001b[43my_val\u001b[49m\u001b[43m,\u001b[49m\n\u001b[0;32m    791\u001b[0m \u001b[43m    \u001b[49m\u001b[43msample_weight_val\u001b[49m\u001b[43m,\u001b[49m\n\u001b[0;32m    792\u001b[0m \u001b[43m    \u001b[49m\u001b[43mbegin_at_stage\u001b[49m\u001b[43m,\u001b[49m\n\u001b[0;32m    793\u001b[0m \u001b[43m    \u001b[49m\u001b[43mmonitor\u001b[49m\u001b[43m,\u001b[49m\n\u001b[0;32m    794\u001b[0m \u001b[43m\u001b[49m\u001b[43m)\u001b[49m\n\u001b[0;32m    796\u001b[0m \u001b[38;5;66;03m# change shape of arrays after fit (early-stopping or additional ests)\u001b[39;00m\n\u001b[0;32m    797\u001b[0m \u001b[38;5;28;01mif\u001b[39;00m n_stages \u001b[38;5;241m!=\u001b[39m \u001b[38;5;28mself\u001b[39m\u001b[38;5;241m.\u001b[39mestimators_\u001b[38;5;241m.\u001b[39mshape[\u001b[38;5;241m0\u001b[39m]:\n",
      "File \u001b[1;32mc:\\Users\\matth\\anaconda3\\Lib\\site-packages\\sklearn\\ensemble\\_gb.py:879\u001b[0m, in \u001b[0;36mBaseGradientBoosting._fit_stages\u001b[1;34m(self, X, y, raw_predictions, sample_weight, random_state, X_val, y_val, sample_weight_val, begin_at_stage, monitor)\u001b[0m\n\u001b[0;32m    872\u001b[0m         initial_loss \u001b[38;5;241m=\u001b[39m factor \u001b[38;5;241m*\u001b[39m \u001b[38;5;28mself\u001b[39m\u001b[38;5;241m.\u001b[39m_loss(\n\u001b[0;32m    873\u001b[0m             y_true\u001b[38;5;241m=\u001b[39my_oob_masked,\n\u001b[0;32m    874\u001b[0m             raw_prediction\u001b[38;5;241m=\u001b[39mraw_predictions[\u001b[38;5;241m~\u001b[39msample_mask],\n\u001b[0;32m    875\u001b[0m             sample_weight\u001b[38;5;241m=\u001b[39msample_weight_oob_masked,\n\u001b[0;32m    876\u001b[0m         )\n\u001b[0;32m    878\u001b[0m \u001b[38;5;66;03m# fit next stage of trees\u001b[39;00m\n\u001b[1;32m--> 879\u001b[0m raw_predictions \u001b[38;5;241m=\u001b[39m \u001b[38;5;28;43mself\u001b[39;49m\u001b[38;5;241;43m.\u001b[39;49m\u001b[43m_fit_stage\u001b[49m\u001b[43m(\u001b[49m\n\u001b[0;32m    880\u001b[0m \u001b[43m    \u001b[49m\u001b[43mi\u001b[49m\u001b[43m,\u001b[49m\n\u001b[0;32m    881\u001b[0m \u001b[43m    \u001b[49m\u001b[43mX\u001b[49m\u001b[43m,\u001b[49m\n\u001b[0;32m    882\u001b[0m \u001b[43m    \u001b[49m\u001b[43my\u001b[49m\u001b[43m,\u001b[49m\n\u001b[0;32m    883\u001b[0m \u001b[43m    \u001b[49m\u001b[43mraw_predictions\u001b[49m\u001b[43m,\u001b[49m\n\u001b[0;32m    884\u001b[0m \u001b[43m    \u001b[49m\u001b[43msample_weight\u001b[49m\u001b[43m,\u001b[49m\n\u001b[0;32m    885\u001b[0m \u001b[43m    \u001b[49m\u001b[43msample_mask\u001b[49m\u001b[43m,\u001b[49m\n\u001b[0;32m    886\u001b[0m \u001b[43m    \u001b[49m\u001b[43mrandom_state\u001b[49m\u001b[43m,\u001b[49m\n\u001b[0;32m    887\u001b[0m \u001b[43m    \u001b[49m\u001b[43mX_csc\u001b[49m\u001b[38;5;241;43m=\u001b[39;49m\u001b[43mX_csc\u001b[49m\u001b[43m,\u001b[49m\n\u001b[0;32m    888\u001b[0m \u001b[43m    \u001b[49m\u001b[43mX_csr\u001b[49m\u001b[38;5;241;43m=\u001b[39;49m\u001b[43mX_csr\u001b[49m\u001b[43m,\u001b[49m\n\u001b[0;32m    889\u001b[0m \u001b[43m\u001b[49m\u001b[43m)\u001b[49m\n\u001b[0;32m    891\u001b[0m \u001b[38;5;66;03m# track loss\u001b[39;00m\n\u001b[0;32m    892\u001b[0m \u001b[38;5;28;01mif\u001b[39;00m do_oob:\n",
      "File \u001b[1;32mc:\\Users\\matth\\anaconda3\\Lib\\site-packages\\sklearn\\ensemble\\_gb.py:490\u001b[0m, in \u001b[0;36mBaseGradientBoosting._fit_stage\u001b[1;34m(self, i, X, y, raw_predictions, sample_weight, sample_mask, random_state, X_csc, X_csr)\u001b[0m\n\u001b[0;32m    487\u001b[0m     sample_weight \u001b[38;5;241m=\u001b[39m sample_weight \u001b[38;5;241m*\u001b[39m sample_mask\u001b[38;5;241m.\u001b[39mastype(np\u001b[38;5;241m.\u001b[39mfloat64)\n\u001b[0;32m    489\u001b[0m X \u001b[38;5;241m=\u001b[39m X_csc \u001b[38;5;28;01mif\u001b[39;00m X_csc \u001b[38;5;129;01mis\u001b[39;00m \u001b[38;5;129;01mnot\u001b[39;00m \u001b[38;5;28;01mNone\u001b[39;00m \u001b[38;5;28;01melse\u001b[39;00m X\n\u001b[1;32m--> 490\u001b[0m \u001b[43mtree\u001b[49m\u001b[38;5;241;43m.\u001b[39;49m\u001b[43mfit\u001b[49m\u001b[43m(\u001b[49m\n\u001b[0;32m    491\u001b[0m \u001b[43m    \u001b[49m\u001b[43mX\u001b[49m\u001b[43m,\u001b[49m\u001b[43m \u001b[49m\u001b[43mneg_g_view\u001b[49m\u001b[43m[\u001b[49m\u001b[43m:\u001b[49m\u001b[43m,\u001b[49m\u001b[43m \u001b[49m\u001b[43mk\u001b[49m\u001b[43m]\u001b[49m\u001b[43m,\u001b[49m\u001b[43m \u001b[49m\u001b[43msample_weight\u001b[49m\u001b[38;5;241;43m=\u001b[39;49m\u001b[43msample_weight\u001b[49m\u001b[43m,\u001b[49m\u001b[43m \u001b[49m\u001b[43mcheck_input\u001b[49m\u001b[38;5;241;43m=\u001b[39;49m\u001b[38;5;28;43;01mFalse\u001b[39;49;00m\n\u001b[0;32m    492\u001b[0m \u001b[43m\u001b[49m\u001b[43m)\u001b[49m\n\u001b[0;32m    494\u001b[0m \u001b[38;5;66;03m# update tree leaves\u001b[39;00m\n\u001b[0;32m    495\u001b[0m X_for_tree_update \u001b[38;5;241m=\u001b[39m X_csr \u001b[38;5;28;01mif\u001b[39;00m X_csr \u001b[38;5;129;01mis\u001b[39;00m \u001b[38;5;129;01mnot\u001b[39;00m \u001b[38;5;28;01mNone\u001b[39;00m \u001b[38;5;28;01melse\u001b[39;00m X\n",
      "File \u001b[1;32mc:\\Users\\matth\\anaconda3\\Lib\\site-packages\\sklearn\\base.py:1473\u001b[0m, in \u001b[0;36m_fit_context.<locals>.decorator.<locals>.wrapper\u001b[1;34m(estimator, *args, **kwargs)\u001b[0m\n\u001b[0;32m   1466\u001b[0m     estimator\u001b[38;5;241m.\u001b[39m_validate_params()\n\u001b[0;32m   1468\u001b[0m \u001b[38;5;28;01mwith\u001b[39;00m config_context(\n\u001b[0;32m   1469\u001b[0m     skip_parameter_validation\u001b[38;5;241m=\u001b[39m(\n\u001b[0;32m   1470\u001b[0m         prefer_skip_nested_validation \u001b[38;5;129;01mor\u001b[39;00m global_skip_validation\n\u001b[0;32m   1471\u001b[0m     )\n\u001b[0;32m   1472\u001b[0m ):\n\u001b[1;32m-> 1473\u001b[0m     \u001b[38;5;28;01mreturn\u001b[39;00m \u001b[43mfit_method\u001b[49m\u001b[43m(\u001b[49m\u001b[43mestimator\u001b[49m\u001b[43m,\u001b[49m\u001b[43m \u001b[49m\u001b[38;5;241;43m*\u001b[39;49m\u001b[43margs\u001b[49m\u001b[43m,\u001b[49m\u001b[43m \u001b[49m\u001b[38;5;241;43m*\u001b[39;49m\u001b[38;5;241;43m*\u001b[39;49m\u001b[43mkwargs\u001b[49m\u001b[43m)\u001b[49m\n",
      "File \u001b[1;32mc:\\Users\\matth\\anaconda3\\Lib\\site-packages\\sklearn\\tree\\_classes.py:1377\u001b[0m, in \u001b[0;36mDecisionTreeRegressor.fit\u001b[1;34m(self, X, y, sample_weight, check_input)\u001b[0m\n\u001b[0;32m   1347\u001b[0m \u001b[38;5;129m@_fit_context\u001b[39m(prefer_skip_nested_validation\u001b[38;5;241m=\u001b[39m\u001b[38;5;28;01mTrue\u001b[39;00m)\n\u001b[0;32m   1348\u001b[0m \u001b[38;5;28;01mdef\u001b[39;00m\u001b[38;5;250m \u001b[39m\u001b[38;5;21mfit\u001b[39m(\u001b[38;5;28mself\u001b[39m, X, y, sample_weight\u001b[38;5;241m=\u001b[39m\u001b[38;5;28;01mNone\u001b[39;00m, check_input\u001b[38;5;241m=\u001b[39m\u001b[38;5;28;01mTrue\u001b[39;00m):\n\u001b[0;32m   1349\u001b[0m \u001b[38;5;250m    \u001b[39m\u001b[38;5;124;03m\"\"\"Build a decision tree regressor from the training set (X, y).\u001b[39;00m\n\u001b[0;32m   1350\u001b[0m \n\u001b[0;32m   1351\u001b[0m \u001b[38;5;124;03m    Parameters\u001b[39;00m\n\u001b[1;32m   (...)\u001b[0m\n\u001b[0;32m   1374\u001b[0m \u001b[38;5;124;03m        Fitted estimator.\u001b[39;00m\n\u001b[0;32m   1375\u001b[0m \u001b[38;5;124;03m    \"\"\"\u001b[39;00m\n\u001b[1;32m-> 1377\u001b[0m     \u001b[38;5;28;43msuper\u001b[39;49m\u001b[43m(\u001b[49m\u001b[43m)\u001b[49m\u001b[38;5;241;43m.\u001b[39;49m\u001b[43m_fit\u001b[49m\u001b[43m(\u001b[49m\n\u001b[0;32m   1378\u001b[0m \u001b[43m        \u001b[49m\u001b[43mX\u001b[49m\u001b[43m,\u001b[49m\n\u001b[0;32m   1379\u001b[0m \u001b[43m        \u001b[49m\u001b[43my\u001b[49m\u001b[43m,\u001b[49m\n\u001b[0;32m   1380\u001b[0m \u001b[43m        \u001b[49m\u001b[43msample_weight\u001b[49m\u001b[38;5;241;43m=\u001b[39;49m\u001b[43msample_weight\u001b[49m\u001b[43m,\u001b[49m\n\u001b[0;32m   1381\u001b[0m \u001b[43m        \u001b[49m\u001b[43mcheck_input\u001b[49m\u001b[38;5;241;43m=\u001b[39;49m\u001b[43mcheck_input\u001b[49m\u001b[43m,\u001b[49m\n\u001b[0;32m   1382\u001b[0m \u001b[43m    \u001b[49m\u001b[43m)\u001b[49m\n\u001b[0;32m   1383\u001b[0m     \u001b[38;5;28;01mreturn\u001b[39;00m \u001b[38;5;28mself\u001b[39m\n",
      "File \u001b[1;32mc:\\Users\\matth\\anaconda3\\Lib\\site-packages\\sklearn\\tree\\_classes.py:472\u001b[0m, in \u001b[0;36mBaseDecisionTree._fit\u001b[1;34m(self, X, y, sample_weight, check_input, missing_values_in_feature_mask)\u001b[0m\n\u001b[0;32m    461\u001b[0m \u001b[38;5;28;01melse\u001b[39;00m:\n\u001b[0;32m    462\u001b[0m     builder \u001b[38;5;241m=\u001b[39m BestFirstTreeBuilder(\n\u001b[0;32m    463\u001b[0m         splitter,\n\u001b[0;32m    464\u001b[0m         min_samples_split,\n\u001b[1;32m   (...)\u001b[0m\n\u001b[0;32m    469\u001b[0m         \u001b[38;5;28mself\u001b[39m\u001b[38;5;241m.\u001b[39mmin_impurity_decrease,\n\u001b[0;32m    470\u001b[0m     )\n\u001b[1;32m--> 472\u001b[0m \u001b[43mbuilder\u001b[49m\u001b[38;5;241;43m.\u001b[39;49m\u001b[43mbuild\u001b[49m\u001b[43m(\u001b[49m\u001b[38;5;28;43mself\u001b[39;49m\u001b[38;5;241;43m.\u001b[39;49m\u001b[43mtree_\u001b[49m\u001b[43m,\u001b[49m\u001b[43m \u001b[49m\u001b[43mX\u001b[49m\u001b[43m,\u001b[49m\u001b[43m \u001b[49m\u001b[43my\u001b[49m\u001b[43m,\u001b[49m\u001b[43m \u001b[49m\u001b[43msample_weight\u001b[49m\u001b[43m,\u001b[49m\u001b[43m \u001b[49m\u001b[43mmissing_values_in_feature_mask\u001b[49m\u001b[43m)\u001b[49m\n\u001b[0;32m    474\u001b[0m \u001b[38;5;28;01mif\u001b[39;00m \u001b[38;5;28mself\u001b[39m\u001b[38;5;241m.\u001b[39mn_outputs_ \u001b[38;5;241m==\u001b[39m \u001b[38;5;241m1\u001b[39m \u001b[38;5;129;01mand\u001b[39;00m is_classifier(\u001b[38;5;28mself\u001b[39m):\n\u001b[0;32m    475\u001b[0m     \u001b[38;5;28mself\u001b[39m\u001b[38;5;241m.\u001b[39mn_classes_ \u001b[38;5;241m=\u001b[39m \u001b[38;5;28mself\u001b[39m\u001b[38;5;241m.\u001b[39mn_classes_[\u001b[38;5;241m0\u001b[39m]\n",
      "\u001b[1;31mKeyboardInterrupt\u001b[0m: "
     ]
    }
   ],
   "source": [
    "# Import RandomOverSampler\n",
    "from imblearn.over_sampling import RandomOverSampler\n",
    "from sklearn.model_selection import cross_val_score\n",
    "import pickle\n",
    "\n",
    "\n",
    "# === Modèles à tester ===\n",
    "models = {\n",
    "    \"Régression Logistique\": LogisticRegression(class_weight='balanced', max_iter=1000),\n",
    "    \"SVM Linéaire\": LinearSVC(class_weight='balanced', max_iter=3000),\n",
    "    \"Gradient Boosting\": GradientBoostingClassifier(),\n",
    "    \"Decision Tree\": DecisionTreeClassifier(random_state=5631),\n",
    "    \"Naive Bayes\": MultinomialNB(),\n",
    "    \"XGBoost\": XGBClassifier(eval_metric='logloss'),\n",
    "    \"Perceptron Multicouche\": MLPClassifier(hidden_layer_sizes=(100,), max_iter=500)\n",
    "}\n",
    "# Stocker les résultats\n",
    "results = []\n",
    "# Créer une copie du DataFrame original\n",
    "df_copy = df.copy()\n",
    "\n",
    "# Appliquer un échantillonnage pour équilibrer les classes\n",
    "ros = RandomOverSampler(sampling_strategy='auto', random_state=42)\n",
    "X_resampled, y_resampled = ros.fit_resample(df_copy['text'].values.reshape(-1, 1), df_copy['science_related'])\n",
    "df_copy = pd.DataFrame({'text': X_resampled.flatten(), 'science_related': y_resampled})\n",
    "# === Boucle principale ===\n",
    "for i, combo in enumerate(all_combinations):\n",
    "    df_copy = df_copy.copy()\n",
    "\n",
    "    # Appliquer toutes les transformations de la combinaison\n",
    "    for transform_name in combo:\n",
    "        df_copy['text'] = df_copy['text'].apply(transformations[transform_name])\n",
    "\n",
    "    # Données texte + labels\n",
    "    X = df_copy['text']\n",
    "    y = df_copy['science_related']\n",
    "\n",
    "    # TF-IDF\n",
    "    vectorizer = TfidfVectorizer()\n",
    "    X_vect = vectorizer.fit_transform(X)\n",
    "\n",
    "    # Split train/test\n",
    "    X_train, X_test, y_train, y_test = train_test_split(X_vect, y, test_size=0.2, random_state=42)\n",
    "\n",
    "    # Tester chaque modèle\n",
    "    for model_name, model in models.items():\n",
    "        \n",
    "        copy_model = model\n",
    "        \n",
    "        # Perform 10-fold cross-validation\n",
    "        cv_scores = cross_val_score(copy_model, X_train, y_train, cv=10, scoring='accuracy')\n",
    "\n",
    "        # Calculate the mean accuracy across folds\n",
    "        mean_cv_score = cv_scores.mean()\n",
    "        std_cv_score = cv_scores.std()\n",
    "        first_quartile = np.percentile(cv_scores, 25)\n",
    "        third_quartile = np.percentile(cv_scores, 75)\n",
    "        print(f\"Cross-Validation Std Dev: {std_cv_score:.4f}\")\n",
    "        print(f\"First Quartile (25th Percentile): {first_quartile:.4f}\")\n",
    "        print(f\"Third Quartile (75th Percentile): {third_quartile:.4f}\")\n",
    "        print(f\"Cross-Validation Accuracy (10 folds): {mean_cv_score:.4f}\")\n",
    "        \n",
    "        \n",
    "        pipeline = make_pipeline(StandardScaler(with_mean=False), model)\n",
    "        pipeline.fit(X_train, y_train)\n",
    "        y_pred = pipeline.predict(X_test)\n",
    "        acc = accuracy_score(y_test, y_pred)\n",
    "\n",
    "        results.append({\n",
    "            \"combination\": combo,\n",
    "            \"model_name\": model_name,\n",
    "            \"accuracy\": acc,\n",
    "            \"y_test\": y_test,\n",
    "            \"y_pred\": y_pred\n",
    "        })\n",
    "        \n",
    "        with open(model_name + '-' + \"_\".join(combo) + '.pkl', 'wb') as fichier_modele:\n",
    "                pickle.dump(model, fichier_modele)\n",
    "\n",
    "        print(f\"[{i+1}/{len(all_combinations)}] Combo: {combo} | Model: {model_name} | Acc: {acc:.4f}\")\n"
   ]
  },
  {
   "cell_type": "markdown",
   "metadata": {},
   "source": [
    "On peut observer que plus haute accuracy concernent 3-4 modèles qui atteignent un résultat similaire, XGBoost, Decision Tree, Random Forest et Gradient Boosting \n",
    "\n",
    "Prenons par exemple le meilleur modèle associé à sa combinaison de pré traitement afin d'en observer les résultats plus en détail"
   ]
  },
  {
   "cell_type": "code",
   "execution_count": 6,
   "metadata": {},
   "outputs": [
    {
     "ename": "NameError",
     "evalue": "name 'results' is not defined",
     "output_type": "error",
     "traceback": [
      "\u001b[1;31m---------------------------------------------------------------------------\u001b[0m",
      "\u001b[1;31mNameError\u001b[0m                                 Traceback (most recent call last)",
      "Cell \u001b[1;32mIn[6], line 4\u001b[0m\n\u001b[0;32m      1\u001b[0m \u001b[38;5;28;01mfrom\u001b[39;00m\u001b[38;5;250m \u001b[39m\u001b[38;5;21;01mtabulate\u001b[39;00m\u001b[38;5;250m \u001b[39m\u001b[38;5;28;01mimport\u001b[39;00m tabulate\n\u001b[0;32m      3\u001b[0m \u001b[38;5;66;03m# Convertir les résultats en DataFrame pour manipulation facile\u001b[39;00m\n\u001b[1;32m----> 4\u001b[0m results_df \u001b[38;5;241m=\u001b[39m pd\u001b[38;5;241m.\u001b[39mDataFrame(\u001b[43mresults\u001b[49m)\n\u001b[0;32m      6\u001b[0m \u001b[38;5;66;03m# Trouver la meilleure combinaison pour chaque modèle\u001b[39;00m\n\u001b[0;32m      7\u001b[0m best_per_model \u001b[38;5;241m=\u001b[39m results_df\u001b[38;5;241m.\u001b[39mloc[results_df\u001b[38;5;241m.\u001b[39mgroupby(\u001b[38;5;124m\"\u001b[39m\u001b[38;5;124mmodel_name\u001b[39m\u001b[38;5;124m\"\u001b[39m)[\u001b[38;5;124m\"\u001b[39m\u001b[38;5;124maccuracy\u001b[39m\u001b[38;5;124m\"\u001b[39m]\u001b[38;5;241m.\u001b[39midxmax()]\n",
      "\u001b[1;31mNameError\u001b[0m: name 'results' is not defined"
     ]
    }
   ],
   "source": [
    "from tabulate import tabulate\n",
    "\n",
    "# Convertir les résultats en DataFrame pour manipulation facile\n",
    "results_df = pd.DataFrame(results)\n",
    "\n",
    "# Trouver la meilleure combinaison pour chaque modèle\n",
    "best_per_model = results_df.loc[results_df.groupby(\"model_name\")[\"accuracy\"].idxmax()]\n",
    "\n",
    "# Afficher joliment\n",
    "print(\"\\n=== Meilleures combinaisons par modèle ===\")\n",
    "\n",
    "best_model = best_per_model.sort_values(by=\"accuracy\", ascending=False);\n",
    "\n",
    "\n",
    "# Créer un DataFrame à partir des trois colonnes affichées précédemment\n",
    "summary_df = pd.DataFrame({\n",
    "    \"Combination\": best_model['combination'],\n",
    "    \"Model Name\": best_model['model_name'],\n",
    "    \"Accuracy\": best_model['accuracy']\n",
    "})\n",
    "\n",
    "# Afficher le DataFrame\n",
    "display(summary_df)\n",
    "\n",
    "\n",
    "# Convertir le DataFrame en tableau formaté\n",
    "#print(tabulate(best_model, headers=\"keys\", tablefmt=\"pretty\", showindex=False))\n",
    "\n",
    "\n"
   ]
  },
  {
   "cell_type": "code",
   "execution_count": null,
   "metadata": {},
   "outputs": [
    {
     "name": "stdout",
     "output_type": "stream",
     "text": [
      "\n",
      "Meilleur résultat :\n",
      "Modèle     : XGBoost\n",
      "Combo      : ('remove_mentions', 'stem_words')\n",
      "Accuracy   : 0.8158\n",
      "\n",
      "Classification Report:\n",
      "              precision    recall  f1-score   support\n",
      "\n",
      "           0       0.82      0.92      0.86       146\n",
      "           1       0.81      0.63      0.71        82\n",
      "\n",
      "    accuracy                           0.82       228\n",
      "   macro avg       0.81      0.78      0.79       228\n",
      "weighted avg       0.82      0.82      0.81       228\n",
      "\n",
      "Matrice de confusion :\n"
     ]
    },
    {
     "data": {
      "image/png": "[encoded data removed]",
      "text/plain": [
       "<Figure size 640x480 with 2 Axes>"
      ]
     },
     "metadata": {},
     "output_type": "display_data"
    }
   ],
   "source": [
    "# ------------------ Affichage du meilleur modèle ------------------\n",
    "\n",
    "results_df = pd.DataFrame(results)\n",
    "best_result = results_df.loc[results_df[\"accuracy\"].idxmax()]\n",
    "\n",
    "print(\"\\nMeilleur résultat :\")\n",
    "print(f\"Modèle     : {best_result['model_name']}\")\n",
    "print(f\"Combo      : {best_result['combination']}\")\n",
    "print(f\"Accuracy   : {best_result['accuracy']:.4f}\")\n",
    "\n",
    "# Rapport + matrice de confusion\n",
    "print(\"\\nClassification Report:\")\n",
    "print(classification_report(best_result[\"y_test\"], best_result[\"y_pred\"]))\n",
    "\n",
    "print(\"Matrice de confusion :\")\n",
    "cm = confusion_matrix(best_result[\"y_test\"], best_result[\"y_pred\"])\n",
    "disp = ConfusionMatrixDisplay(confusion_matrix=cm)\n",
    "disp.plot(cmap=\"Blues\", values_format=\"d\")\n",
    "plt.title(f\"Confusion Matrix - {best_result['model_name']}\")\n",
    "plt.tight_layout()\n",
    "plt.show()"
   ]
  },
  {
   "cell_type": "markdown",
   "metadata": {},
   "source": [
    "On remarque peu de faux négatif et de faux positif et à l'inverse beaucoup de vrai positif et vrai négatif ce qui veut dire que le modèle fait peu d'erreurs et réussit à bien identifier les classes. On peut donc en déduire qu'il y a un léger surapprentissage car les tweets non scientifiques sont très bien classifier contrairement au tweets scientifique."
   ]
  },
  {
   "cell_type": "markdown",
   "metadata": {},
   "source": [
    "### Afin d'être plus rapide dans notre dévellopement, nous allons prendre un model et ainsi que des modifications ayant de \"bon résultat\""
   ]
  },
  {
   "cell_type": "markdown",
   "metadata": {},
   "source": [
    "Nous avions précédement identifier des models ainsi que des transformations prometteusent. Cependant, la quantité de calcle"
   ]
  },
  {
   "cell_type": "code",
   "execution_count": null,
   "metadata": {},
   "outputs": [
    {
     "name": "stdout",
     "output_type": "stream",
     "text": [
      "--------------------------------------------------------\n",
      "Cross-Validation Std Dev (écart type): 0.0354\n",
      "First Quartile (25th Percentile): 0.8623\n",
      "Third Quartile (75th Percentile): 0.9106\n",
      "Cross-Validation Accuracy (10 folds): 0.8875\n",
      "--------------------------------------------------------\n",
      "Cross-Validation Std Dev (écart type): 0.0357\n",
      "First Quartile (25th Percentile): 0.8587\n",
      "Third Quartile (75th Percentile): 0.9217\n",
      "Cross-Validation Accuracy (10 folds): 0.8890\n",
      "--------------------------------------------------------\n",
      "Cross-Validation Std Dev (écart type): 0.0348\n",
      "First Quartile (25th Percentile): 0.8605\n",
      "Third Quartile (75th Percentile): 0.9108\n",
      "Cross-Validation Accuracy (10 folds): 0.8853\n",
      "--------------------------------------------------------\n",
      "Cross-Validation Std Dev (écart type): 0.0316\n",
      "First Quartile (25th Percentile): 0.8616\n",
      "Third Quartile (75th Percentile): 0.9035\n",
      "Cross-Validation Accuracy (10 folds): 0.8809\n",
      "--------------------------------------------------------\n",
      "Cross-Validation Std Dev (écart type): 0.0367\n",
      "First Quartile (25th Percentile): 0.8587\n",
      "Third Quartile (75th Percentile): 0.9144\n",
      "Cross-Validation Accuracy (10 folds): 0.8831\n",
      "--------------------------------------------------------\n",
      "Cross-Validation Std Dev (écart type): 0.0339\n",
      "First Quartile (25th Percentile): 0.8621\n",
      "Third Quartile (75th Percentile): 0.9180\n",
      "Cross-Validation Accuracy (10 folds): 0.8889\n",
      "--------------------------------------------------------\n",
      "Cross-Validation Std Dev (écart type): 0.0325\n",
      "First Quartile (25th Percentile): 0.8696\n",
      "Third Quartile (75th Percentile): 0.9111\n",
      "Cross-Validation Accuracy (10 folds): 0.8911\n",
      "--------------------------------------------------------\n",
      "Cross-Validation Std Dev (écart type): 0.0301\n",
      "First Quartile (25th Percentile): 0.8623\n",
      "Third Quartile (75th Percentile): 0.9161\n",
      "Cross-Validation Accuracy (10 folds): 0.8882\n",
      "--------------------------------------------------------\n",
      "Cross-Validation Std Dev (écart type): 0.0271\n",
      "First Quartile (25th Percentile): 0.8657\n",
      "Third Quartile (75th Percentile): 0.9040\n",
      "Cross-Validation Accuracy (10 folds): 0.8838\n",
      "--------------------------------------------------------\n",
      "Cross-Validation Std Dev (écart type): 0.0363\n",
      "First Quartile (25th Percentile): 0.8712\n",
      "Third Quartile (75th Percentile): 0.9129\n",
      "Cross-Validation Accuracy (10 folds): 0.8868\n"
     ]
    }
   ],
   "source": [
    "from sklearn.model_selection import StratifiedKFold\n",
    "\n",
    "df_copy = df.copy()\n",
    "model = LogisticRegression(class_weight='balanced', max_iter=1000)\n",
    "combo = [\"remove_links\"]\n",
    "ros = RandomOverSampler(sampling_strategy='auto', random_state=42)\n",
    "X_resampled, y_resampled = ros.fit_resample(df_copy['text'].values.reshape(-1, 1), df_copy['science_related'])\n",
    "df_copy = pd.DataFrame({'text': X_resampled.flatten(), 'science_related': y_resampled})\n",
    "\n",
    "for transform_name in combo:\n",
    "        df_copy['text'] = df_copy['text'].apply(transformations[transform_name])\n",
    "        \n",
    "X = df_copy['text']\n",
    "y = df_copy['science_related']\n",
    "\n",
    "# TF-IDF\n",
    "vectorizer = TfidfVectorizer()\n",
    "X_vect = vectorizer.fit_transform(X)\n",
    "\n",
    "# Split train/test avec des Kfold\n",
    "skf = StratifiedKFold(n_splits=10, shuffle=True, random_state=42)\n",
    "for train_index, test_index in skf.split(X_vect, y):\n",
    "        X_train, X_test = X_vect[train_index], X_vect[test_index]\n",
    "        y_train, y_test = y.iloc[train_index], y.iloc[test_index]\n",
    "        copy_model = model\n",
    "        # Cross validation\n",
    "        cv_scores = cross_val_score(copy_model, X_train, y_train, cv=10, scoring='accuracy')\n",
    "        mean_cv_score = cv_scores.mean()\n",
    "        std_cv_score = cv_scores.std()\n",
    "        first_quartile = np.percentile(cv_scores, 25)\n",
    "        third_quartile = np.percentile(cv_scores, 75)\n",
    "        print(\"--------------------------------------------------------\")\n",
    "        print(f\"Cross-Validation Std Dev (écart type): {std_cv_score:.4f}\")\n",
    "        print(f\"First Quartile (25th Percentile): {first_quartile:.4f}\")\n",
    "        print(f\"Third Quartile (75th Percentile): {third_quartile:.4f}\")\n",
    "        print(f\"Cross-Validation Accuracy (10 folds): {mean_cv_score:.4f}\")\n",
    "        \n",
    "pipeline = make_pipeline(StandardScaler(with_mean=False), model)\n",
    "pipeline.fit(X_train, y_train)\n",
    "y_pred = pipeline.predict(X_test)\n",
    "acc = accuracy_score(y_test, y_pred)"
   ]
  },
  {
   "cell_type": "code",
   "execution_count": 28,
   "metadata": {},
   "outputs": [
    {
     "name": "stdout",
     "output_type": "stream",
     "text": [
      "--------------------------------------------------------\n",
      "Accuracy: 0.9150\n",
      "F1-Score: 0.9148\n",
      "Recall: 0.9150\n",
      "Precision: 0.9185\n"
     ]
    }
   ],
   "source": [
    "# Calculate additional statistics\n",
    "f1 = f1_score(y_test, y_pred, average='weighted')\n",
    "recall = recall_score(y_test, y_pred, average='weighted')\n",
    "precision = precision_score(y_test, y_pred, average='weighted')\n",
    "\n",
    "# Display the statistics\n",
    "print(\"--------------------------------------------------------\")\n",
    "print(f\"Accuracy: {acc:.4f}\")\n",
    "print(f\"F1-Score: {f1:.4f}\")\n",
    "print(f\"Recall: {recall:.4f}\")\n",
    "print(f\"Precision: {precision:.4f}\")"
   ]
  },
  {
   "cell_type": "code",
   "execution_count": 26,
   "metadata": {},
   "outputs": [
    {
     "data": {
      "image/png": "[encoded data removed]",
      "text/plain": [
       "<Figure size 640x480 with 2 Axes>"
      ]
     },
     "metadata": {},
     "output_type": "display_data"
    }
   ],
   "source": [
    "cm = confusion_matrix(y_test, y_pred)\n",
    "disp = ConfusionMatrixDisplay(confusion_matrix=cm)\n",
    "disp.plot(cmap=\"Blues\", values_format=\"d\")\n",
    "plt.title(\"Confusion Matrix\")\n",
    "plt.tight_layout()\n",
    "plt.show()"
   ]
  },
  {
   "cell_type": "markdown",
   "metadata": {},
   "source": [
    "## Séparation en 2 classes : (CLAIM et REF) vs CONTEXT"
   ]
  },
  {
   "cell_type": "markdown",
   "metadata": {},
   "source": [
    "Dans cette partie visant à séparer en deux classes (CLAIM et REF) vs CONTEXT les tweets, on ne s'intéresse qu'aux tweets scientifiques, le dataset utilisé n'a donc aucun tweets non scientifique"
   ]
  },
  {
   "cell_type": "markdown",
   "metadata": {},
   "source": [
    "En exécutant le code ci-dessous une première fois sans modification sur les échantillons, on se rend compte que il y a un fort déséquilibre entre les classes dans notre échantillon ce qui fausse totalement les résultats.\n",
    "On a donc essayé de rajouter de l'upsampling qui permet de rajouter des données crédibles, et d'éviter que notre modèle ne privilégie la classe majoritaire juste parce qu’elle est surreprésentée.\n",
    "Mais le jeu de test est aussi très petit ce qui rend difficile l'évaluation de nos modèles"
   ]
  },
  {
   "cell_type": "code",
   "execution_count": null,
   "metadata": {
    "scrolled": true
   },
   "outputs": [
    {
     "name": "stdout",
     "output_type": "stream",
     "text": [
      "Classe avant suréchantillonnage: label\n",
      "1.0    239\n",
      "0.0     23\n",
      "Name: count, dtype: int64\n",
      "Classe après suréchantillonnage: label\n",
      "1.0    256\n",
      "0.0    256\n",
      "Name: count, dtype: int64\n",
      "Régression Logistique => F1-Score: 0.9537\n",
      "SVM Linéaire => F1-Score: 0.9537\n",
      "Gradient Boosting => F1-Score: 0.9619\n",
      "Decision Tree => F1-Score: 0.9109\n",
      "Naive Bayes => F1-Score: 0.8912\n",
      "XGBoost => F1-Score: 0.9333\n",
      "Perceptron Multicouche => F1-Score: 0.9577\n"
     ]
    }
   ],
   "source": [
    "from imblearn.over_sampling import RandomOverSampler\n",
    "from sklearn.model_selection import train_test_split\n",
    "from sklearn.metrics import accuracy_score, classification_report\n",
    "\n",
    "task2_results= []\n",
    "\n",
    "# Étape 1 : préparer les données\n",
    "sci_df = df[df['science_related'] == 1].copy()\n",
    "task2_df = sci_df.copy()\n",
    "task2_df['label'] = task2_df[['scientific_claim', 'scientific_reference']].max(axis=1)\n",
    "\n",
    "\n",
    "X = task2_df[\"text\"]\n",
    "y = task2_df[\"label\"]\n",
    "\n",
    "# Vectorisation\n",
    "vectorizer = TfidfVectorizer()\n",
    "X_vect = vectorizer.fit_transform(X)\n",
    "\n",
    "# Split initial\n",
    "X_train, X_test, y_train, y_test = train_test_split(X_vect, y, test_size=0.3, random_state=42, stratify=y)\n",
    "\n",
    "# Appliquer RandomOverSampler pour augmenter les données\n",
    "ros = RandomOverSampler(sampling_strategy={0.0: 256, 1.0: 256}, random_state=42)\n",
    "X_train_res, y_train_res = ros.fit_resample(X_train, y_train)\n",
    "\n",
    "# Afficher le nombre d'exemples avant et après suréchantillonnage\n",
    "print(\"Classe avant suréchantillonnage:\", y_train.value_counts())\n",
    "print(\"Classe après suréchantillonnage:\", y_train_res.value_counts())\n",
    "\n",
    "# Tester tous les modèles avec le suréchantillonnage\n",
    "for model_name, model in models.items():\n",
    "    model.fit(X_train_res, y_train_res)\n",
    "    y_pred = model.predict(X_test)\n",
    "    f1 = f1_score(y_test, y_pred)\n",
    "\n",
    "    task2_results.append({\n",
    "        \"model_name\": model_name,\n",
    "        \"f1_score\": f1,\n",
    "        \"y_test\": y_test,\n",
    "        \"y_pred\": y_pred,\n",
    "        \"model\": model,\n",
    "        \"vectorizer\": vectorizer,\n",
    "        \"X_train\": X_train,\n",
    "        \"X_test\": X_test\n",
    "    })\n",
    "\n",
    "    print(f\"{model_name} => F1-Score: {f1:.4f}\")\n",
    "\n",
    "\n"
   ]
  },
  {
   "cell_type": "code",
   "execution_count": null,
   "metadata": {},
   "outputs": [
    {
     "name": "stdout",
     "output_type": "stream",
     "text": [
      "Meilleur Modèle : Gradient Boosting\n",
      "F1-Score     : 0.9619\n",
      "Classification Report:\n",
      "              precision    recall  f1-score   support\n",
      "\n",
      "         0.0       0.67      0.40      0.50        10\n",
      "         1.0       0.94      0.98      0.96       103\n",
      "\n",
      "    accuracy                           0.93       113\n",
      "   macro avg       0.81      0.69      0.73       113\n",
      "weighted avg       0.92      0.93      0.92       113\n",
      "\n"
     ]
    }
   ],
   "source": [
    "# Trier les résultats par F1-Score en ordre décroissant\n",
    "best_result = sorted(task2_results, key=lambda x: x['f1_score'], reverse=True)[0]\n",
    "\n",
    "# Afficher les résultats du meilleur modèle\n",
    "print(f\"Meilleur Modèle : {best_result['model_name']}\")\n",
    "print(f\"F1-Score     : {best_result['f1_score']:.4f}\")\n",
    "print(\"Classification Report:\")\n",
    "print(classification_report(best_result['y_test'], best_result['y_pred']))"
   ]
  },
  {
   "cell_type": "markdown",
   "metadata": {},
   "source": [
    "## Séparation en 3 classes : CLAIM vs REF vs CONTEXT"
   ]
  },
  {
   "cell_type": "code",
   "execution_count": null,
   "metadata": {},
   "outputs": [],
   "source": []
  },
  {
   "cell_type": "code",
   "execution_count": null,
   "metadata": {},
   "outputs": [],
   "source": []
  },
  {
   "cell_type": "markdown",
   "metadata": {},
   "source": [
    "Je sais pas c'est quoi le truc ci dessous sah jvais pas y toucher"
   ]
  },
  {
   "cell_type": "code",
   "execution_count": null,
   "metadata": {},
   "outputs": [
    {
     "name": "stdout",
     "output_type": "stream",
     "text": [
      "=== Classification avec caractéristiques spécifiques ===\n",
      "Performance du modèle avec les caractéristiques spécifiques:\n",
      "Accuracy: 0.7719\n",
      "Precision: 0.0000\n",
      "Recall: 0.0000\n",
      "F1 Score: 0.0000\n",
      "\n",
      "Rapport de classification:\n",
      "              precision    recall  f1-score   support\n",
      "\n",
      "         0.0       0.77      1.00      0.87       176\n",
      "         1.0       0.00      0.00      0.00        52\n",
      "\n",
      "    accuracy                           0.77       228\n",
      "   macro avg       0.39      0.50      0.44       228\n",
      "weighted avg       0.60      0.77      0.67       228\n",
      "\n"
     ]
    },
    {
     "name": "stderr",
     "output_type": "stream",
     "text": [
      "c:\\Users\\matth\\anaconda3\\Lib\\site-packages\\sklearn\\metrics\\_classification.py:1531: UndefinedMetricWarning: Precision is ill-defined and being set to 0.0 in labels with no predicted samples. Use `zero_division` parameter to control this behavior.\n",
      "  _warn_prf(average, modifier, f\"{metric.capitalize()} is\", len(result))\n",
      "c:\\Users\\matth\\anaconda3\\Lib\\site-packages\\sklearn\\metrics\\_classification.py:1531: UndefinedMetricWarning: Precision is ill-defined and being set to 0.0 in labels with no predicted samples. Use `zero_division` parameter to control this behavior.\n",
      "  _warn_prf(average, modifier, f\"{metric.capitalize()} is\", len(result))\n",
      "c:\\Users\\matth\\anaconda3\\Lib\\site-packages\\sklearn\\metrics\\_classification.py:1531: UndefinedMetricWarning: Precision is ill-defined and being set to 0.0 in labels with no predicted samples. Use `zero_division` parameter to control this behavior.\n",
      "  _warn_prf(average, modifier, f\"{metric.capitalize()} is\", len(result))\n"
     ]
    },
    {
     "data": {
      "image/png": "[encoded data removed]",
      "text/plain": [
       "<Figure size 800x600 with 2 Axes>"
      ]
     },
     "metadata": {},
     "output_type": "display_data"
    },
    {
     "data": {
      "image/png": "[encoded data removed]",
      "text/plain": [
       "<Figure size 1000x600 with 1 Axes>"
      ]
     },
     "metadata": {},
     "output_type": "display_data"
    },
    {
     "name": "stdout",
     "output_type": "stream",
     "text": [
      "\n",
      "=== Comparaison avec approche TF-IDF ===\n",
      "\n",
      "Performance du modèle avec TF-IDF:\n",
      "Accuracy: 0.8202\n",
      "Precision: 0.6667\n",
      "Recall: 0.4231\n",
      "F1 Score: 0.5176\n",
      "\n",
      "=== Approche combinée (caractéristiques spécifiques + TF-IDF) ===\n",
      "\n",
      "Performance du modèle combinant caractéristiques spécifiques et TF-IDF:\n",
      "Accuracy: 0.7763\n",
      "Precision: 0.5143\n",
      "Recall: 0.3462\n",
      "F1 Score: 0.4138\n",
      "\n",
      "=== Validation croisée ===\n",
      "\n",
      "Résultats de la validation croisée (5 plis):\n",
      "Scores par pli: [0.8245614  0.8245614  0.82017544 0.82017544 0.82017544]\n",
      "Score moyen: 0.8219\n",
      "Écart-type: 0.0021\n",
      "\n",
      "=== Optimisation de la profondeur de l'arbre ===\n",
      "Profondeur 1: Accuracy = 0.8099\n",
      "Profondeur 2: Accuracy = 0.8099\n",
      "Profondeur 3: Accuracy = 0.8099\n",
      "Profondeur 4: Accuracy = 0.8099\n",
      "Profondeur 5: Accuracy = 0.8099\n",
      "Profondeur 6: Accuracy = 0.8099\n",
      "Profondeur 7: Accuracy = 0.8099\n",
      "Profondeur 8: Accuracy = 0.8099\n",
      "Profondeur 9: Accuracy = 0.8099\n",
      "Profondeur 10: Accuracy = 0.8099\n"
     ]
    },
    {
     "data": {
      "image/png": "[encoded data removed]",
      "text/plain": [
       "<Figure size 1000x600 with 1 Axes>"
      ]
     },
     "metadata": {},
     "output_type": "display_data"
    }
   ],
   "source": [
    "\n",
    "\n",
    "# Supposons que df soit déjà chargé avec les données du fichier TSV\n",
    "# df = pd.read_csv('scitweets_export.tsv', sep='\\t')\n",
    "\n",
    "# Fonction pour extraire les caractéristiques spécifiques (présence de #, @, liens)\n",
    "def extract_features(text):\n",
    "    has_hashtag = 1 if '#' in text else 0\n",
    "    has_at = 1 if '@' in text else 0\n",
    "    # Recherche de liens avec regex\n",
    "    has_link = 1 if bool(re.search(r'http[s]?://(?:[a-zA-Z]|[0-9]|[$-_@.&+]|[!*\\\\(\\\\),]|(?:%[0-9a-fA-F][0-9a-fA-F]))+', text)) else 0\n",
    "    # Recherche de \"t.co\" qui est un raccourcisseur d'URL souvent utilisé par Twitter\n",
    "    has_tco = 1 if 't.co' in text else 0\n",
    "    \n",
    "    return pd.Series([has_hashtag, has_at, has_link, has_tco])\n",
    "\n",
    "def classify_scientific_reference():\n",
    "    # Extraction des caractéristiques\n",
    "    df[['has_hashtag', 'has_at', 'has_link', 'has_tco']] = df['text'].apply(extract_features)\n",
    "    \n",
    "    # Sélection des caractéristiques et de la cible\n",
    "    features = df[['has_hashtag', 'has_at', 'has_link', 'has_tco']]\n",
    "    target = df['scientific_reference'].fillna(0)  # Remplacer les NaN par 0 pour éviter les erreurs\n",
    "    \n",
    "    # Division des données en ensembles d'entraînement et de test\n",
    "    X_train, X_test, y_train, y_test = train_test_split(features, target, test_size=0.2, random_state=42)\n",
    "    \n",
    "    # Création et entraînement du modèle\n",
    "    model = DecisionTreeClassifier(random_state=42)\n",
    "    model.fit(X_train, y_train)\n",
    "    \n",
    "    # Prédictions\n",
    "    y_pred = model.predict(X_test)\n",
    "    \n",
    "    # Évaluation des performances\n",
    "    accuracy = accuracy_score(y_test, y_pred)\n",
    "    precision = precision_score(y_test, y_pred, zero_division=0)\n",
    "    recall = recall_score(y_test, y_pred, zero_division=0)\n",
    "    f1 = f1_score(y_test, y_pred, zero_division=0)\n",
    "    \n",
    "    print(f\"Performance du modèle avec les caractéristiques spécifiques:\")\n",
    "    print(f\"Accuracy: {accuracy:.4f}\")\n",
    "    print(f\"Precision: {precision:.4f}\")\n",
    "    print(f\"Recall: {recall:.4f}\")\n",
    "    print(f\"F1 Score: {f1:.4f}\")\n",
    "    \n",
    "    # Afficher le rapport de classification détaillé\n",
    "    print(\"\\nRapport de classification:\")\n",
    "    print(classification_report(y_test, y_pred))\n",
    "    \n",
    "    # Afficher la matrice de confusion\n",
    "    cm = confusion_matrix(y_test, y_pred)\n",
    "    plt.figure(figsize=(8, 6))\n",
    "    sns.heatmap(cm, annot=True, fmt='d', cmap='Blues')\n",
    "    plt.title('Matrice de confusion')\n",
    "    plt.xlabel('Prédiction')\n",
    "    plt.ylabel('Réalité')\n",
    "    plt.show()\n",
    "    \n",
    "    # Afficher l'importance des caractéristiques\n",
    "    importances = model.feature_importances_\n",
    "    feature_names = ['has_hashtag', 'has_at', 'has_link', 'has_tco']\n",
    "    \n",
    "    plt.figure(figsize=(10, 6))\n",
    "    sns.barplot(x=feature_names, y=importances)\n",
    "    plt.title('Importance des caractéristiques')\n",
    "    plt.xlabel('Caractéristique')\n",
    "    plt.ylabel('Importance')\n",
    "    plt.show()\n",
    "    \n",
    "    return model\n",
    "\n",
    "# Fonction pour comparer avec une approche utilisant TF-IDF pour compléter l'analyse\n",
    "def compare_with_tfidf():\n",
    "    # Préparation des données\n",
    "    X = df['text']\n",
    "    y = df['scientific_reference'].fillna(0)\n",
    "    \n",
    "    # Division des données en ensembles d'entraînement et de test\n",
    "    X_train, X_test, y_train, y_test = train_test_split(X, y, test_size=0.2, random_state=42)\n",
    "    \n",
    "    # Extraction de caractéristiques avec TF-IDF\n",
    "    vectorizer = CountVectorizer(max_features=100)  # Limiter à 100 mots les plus fréquents\n",
    "    X_train_tfidf = vectorizer.fit_transform(X_train)\n",
    "    X_test_tfidf = vectorizer.transform(X_test)\n",
    "    \n",
    "    # Création et entraînement du modèle\n",
    "    model = DecisionTreeClassifier(random_state=42)\n",
    "    model.fit(X_train_tfidf, y_train)\n",
    "    \n",
    "    # Prédictions\n",
    "    y_pred = model.predict(X_test_tfidf)\n",
    "    \n",
    "    # Évaluation des performances\n",
    "    accuracy = accuracy_score(y_test, y_pred)\n",
    "    precision = precision_score(y_test, y_pred, zero_division=0)\n",
    "    recall = recall_score(y_test, y_pred, zero_division=0)\n",
    "    f1 = f1_score(y_test, y_pred, zero_division=0)\n",
    "    \n",
    "    print(f\"\\nPerformance du modèle avec TF-IDF:\")\n",
    "    print(f\"Accuracy: {accuracy:.4f}\")\n",
    "    print(f\"Precision: {precision:.4f}\")\n",
    "    print(f\"Recall: {recall:.4f}\")\n",
    "    print(f\"F1 Score: {f1:.4f}\")\n",
    "\n",
    "# Fonction pour combiner les deux approches\n",
    "def combined_approach():\n",
    "    # Extraction des caractéristiques spécifiques\n",
    "    df[['has_hashtag', 'has_at', 'has_link', 'has_tco']] = df['text'].apply(extract_features)\n",
    "    \n",
    "    # Extraction de caractéristiques avec TF-IDF\n",
    "    vectorizer = CountVectorizer(max_features=50)  # Limiter à 50 mots les plus fréquents\n",
    "    tfidf_features = vectorizer.fit_transform(df['text'])\n",
    "    \n",
    "    # Convertir la matrice TF-IDF en DataFrame\n",
    "    tfidf_df = pd.DataFrame(tfidf_features.toarray(), columns=vectorizer.get_feature_names_out())\n",
    "    \n",
    "    # Joindre les caractéristiques spécifiques avec les caractéristiques TF-IDF\n",
    "    combined_features = pd.concat([df[['has_hashtag', 'has_at', 'has_link', 'has_tco']].reset_index(drop=True), \n",
    "                                  tfidf_df.reset_index(drop=True)], axis=1)\n",
    "    \n",
    "    # Sélection de la cible\n",
    "    target = df['scientific_reference'].fillna(0)\n",
    "    \n",
    "    # Division des données en ensembles d'entraînement et de test\n",
    "    X_train, X_test, y_train, y_test = train_test_split(combined_features, target, test_size=0.2, random_state=42)\n",
    "    \n",
    "    # Création et entraînement du modèle\n",
    "    model = DecisionTreeClassifier(random_state=42)\n",
    "    model.fit(X_train, y_train)\n",
    "    \n",
    "    # Prédictions\n",
    "    y_pred = model.predict(X_test)\n",
    "    \n",
    "    # Évaluation des performances\n",
    "    accuracy = accuracy_score(y_test, y_pred)\n",
    "    precision = precision_score(y_test, y_pred, zero_division=0)\n",
    "    recall = recall_score(y_test, y_pred, zero_division=0)\n",
    "    f1 = f1_score(y_test, y_pred, zero_division=0)\n",
    "    \n",
    "    print(f\"\\nPerformance du modèle combinant caractéristiques spécifiques et TF-IDF:\")\n",
    "    print(f\"Accuracy: {accuracy:.4f}\")\n",
    "    print(f\"Precision: {precision:.4f}\")\n",
    "    print(f\"Recall: {recall:.4f}\")\n",
    "    print(f\"F1 Score: {f1:.4f}\")\n",
    "\n",
    "# Fonction pour tester avec validation croisée\n",
    "def test_with_cross_validation():\n",
    "    # Préparation des données\n",
    "    df[['has_hashtag', 'has_at', 'has_link', 'has_tco']] = df['text'].apply(extract_features)\n",
    "    features = df[['has_hashtag', 'has_at', 'has_link', 'has_tco']]\n",
    "    target = df['scientific_reference'].fillna(0)  # Remplacer les NaN par 0\n",
    "    \n",
    "    # Création du modèle\n",
    "    model = DecisionTreeClassifier(random_state=42)\n",
    "    \n",
    "    # Validation croisée avec 5 plis\n",
    "    cv_scores = cross_val_score(model, features, target, cv=5)\n",
    "    \n",
    "    print(\"\\nRésultats de la validation croisée (5 plis):\")\n",
    "    print(f\"Scores par pli: {cv_scores}\")\n",
    "    print(f\"Score moyen: {cv_scores.mean():.4f}\")\n",
    "    print(f\"Écart-type: {cv_scores.std():.4f}\")\n",
    "\n",
    "# Fonction pour tester avec différentes profondeurs d'arbre\n",
    "def optimize_tree_depth():\n",
    "    # Préparation des données\n",
    "    df[['has_hashtag', 'has_at', 'has_link', 'has_tco']] = df['text'].apply(extract_features)\n",
    "    features = df[['has_hashtag', 'has_at', 'has_link', 'has_tco']]\n",
    "    target = df['scientific_reference'].fillna(0)  # Remplacer les NaN par 0\n",
    "    \n",
    "    # Division des données\n",
    "    X_train, X_test, y_train, y_test = train_test_split(features, target, test_size=0.3, random_state=42)\n",
    "    \n",
    "    # Test de différentes profondeurs\n",
    "    depths = range(1, 11)\n",
    "    accuracy_results = []\n",
    "    \n",
    "    for depth in depths:\n",
    "        model = DecisionTreeClassifier(max_depth=depth, random_state=42)\n",
    "        model.fit(X_train, y_train)\n",
    "        y_pred = model.predict(X_test)\n",
    "        accuracy = accuracy_score(y_test, y_pred)\n",
    "        accuracy_results.append(accuracy)\n",
    "        print(f\"Profondeur {depth}: Accuracy = {accuracy:.4f}\")\n",
    "    \n",
    "    # Visualisation des résultats\n",
    "    plt.figure(figsize=(10, 6))\n",
    "    plt.plot(depths, accuracy_results, marker='o')\n",
    "    plt.title('Accuracy en fonction de la profondeur de l\\'arbre')\n",
    "    plt.xlabel('Profondeur maximale')\n",
    "    plt.ylabel('Accuracy')\n",
    "    plt.grid(True)\n",
    "    plt.show()\n",
    "\n",
    "# Fonction principale pour exécuter toutes les analyses\n",
    "def main():\n",
    "    # Exécuter l'analyse avec les caractéristiques spécifiques (présence de #, @, liens)\n",
    "    print(\"=== Classification avec caractéristiques spécifiques ===\")\n",
    "    model = classify_scientific_reference()\n",
    "    \n",
    "    # Exécuter l'analyse avec TF-IDF\n",
    "    print(\"\\n=== Comparaison avec approche TF-IDF ===\")\n",
    "    compare_with_tfidf()\n",
    "    \n",
    "    # Exécuter l'analyse avec l'approche combinée\n",
    "    print(\"\\n=== Approche combinée (caractéristiques spécifiques + TF-IDF) ===\")\n",
    "    combined_approach()\n",
    "    \n",
    "    # Test avec validation croisée\n",
    "    print(\"\\n=== Validation croisée ===\")\n",
    "    test_with_cross_validation()\n",
    "    \n",
    "    # Optimisation de la profondeur de l'arbre\n",
    "    print(\"\\n=== Optimisation de la profondeur de l'arbre ===\")\n",
    "    optimize_tree_depth()\n",
    "\n",
    "if __name__ == \"__main__\":\n",
    "    main()"
   ]
  },
  {
   "cell_type": "code",
   "execution_count": null,
   "metadata": {},
   "outputs": [],
   "source": []
  }
 ],
 "metadata": {
  "colab": {
   "include_colab_link": true,
   "provenance": []
  },
  "kernelspec": {
   "display_name": "base",
   "language": "python",
   "name": "python3"
  },
  "language_info": {
   "codemirror_mode": {
    "name": "ipython",
    "version": 3
   },
   "file_extension": ".py",
   "mimetype": "text/x-python",
   "name": "python",
   "nbconvert_exporter": "python",
   "pygments_lexer": "ipython3",
   "version": "3.12.7"
  }
 },
 "nbformat": 4,
 "nbformat_minor": 4
}
